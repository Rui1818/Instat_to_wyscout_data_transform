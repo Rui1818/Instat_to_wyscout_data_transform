{
 "cells": [
  {
   "cell_type": "code",
   "execution_count": 29,
   "metadata": {},
   "outputs": [],
   "source": [
    "import json\n",
    "import pandas as pd\n",
    "import cmath\n",
    "import os\n",
    "import xml.etree.ElementTree as et"
   ]
  },
  {
   "cell_type": "code",
   "execution_count": null,
   "metadata": {},
   "outputs": [],
   "source": [
    "pd.set_option('display.max_columns', 5000)\n",
    "#pd.set_option('display.max_rows', None)"
   ]
  },
  {
   "cell_type": "code",
   "execution_count": 32,
   "metadata": {},
   "outputs": [
    {
     "data": {
      "text/plain": [
       "['Midfielder - Right',\n",
       " 'Attacking midfielder - Left central',\n",
       " 'Defender - Left central',\n",
       " 'Defender - Central',\n",
       " 'Midfielder - Left central',\n",
       " 'Attacking midfielder - Right',\n",
       " 'Attacking midfielder - Right central',\n",
       " 'Attacking midfielder - Central',\n",
       " 'Defensive midfielder - Right central',\n",
       " 'Attacking midfielder - Left',\n",
       " 'Forward - Right central',\n",
       " 'Substitute player',\n",
       " 'Defender - Left',\n",
       " 'Defender - Right',\n",
       " 'Forward - Central',\n",
       " 'Defender - Right central',\n",
       " 'Defensive midfielder - Central',\n",
       " 'Goalkeeper',\n",
       " 'Defensive midfielder - Left central',\n",
       " 'Midfielder - Right central',\n",
       " 'Midfielder - Left',\n",
       " 'Forward - Left central',\n",
       " None]"
      ]
     },
     "execution_count": 32,
     "metadata": {},
     "output_type": "execute_result"
    }
   ],
   "source": [
    "path = 'data/'\n",
    "action_list = []\n",
    "for filename in os.listdir(path):\n",
    "    if filename.endswith('.xml'):  # Check if the file is an XML file\n",
    "        file_path = os.path.join(path, filename)\n",
    "        df=pd.read_xml(file_path)\n",
    "        if 'action_name' in df.columns:\n",
    "            actions = df['position_name'].drop_duplicates()\n",
    "            action_list += actions.tolist()\n",
    "        else: \n",
    "            print (\"no value: \"+ filename + '\\n')\n",
    "unique_actions = list(set(action_list))\n",
    "unique_actions\n",
    "\n"
   ]
  },
  {
   "cell_type": "code",
   "execution_count": null,
   "metadata": {},
   "outputs": [],
   "source": [
    "df = df[df['action_name']!='line-up']\n",
    "df"
   ]
  },
  {
   "cell_type": "code",
   "execution_count": null,
   "metadata": {},
   "outputs": [],
   "source": [
    "distinct= df['action_name'].unique()\n",
    "distinct.tolist()"
   ]
  },
  {
   "cell_type": "code",
   "execution_count": null,
   "metadata": {},
   "outputs": [],
   "source": []
  },
  {
   "cell_type": "code",
   "execution_count": null,
   "metadata": {},
   "outputs": [],
   "source": []
  }
 ],
 "metadata": {
  "kernelspec": {
   "display_name": "Python 3",
   "language": "python",
   "name": "python3"
  },
  "language_info": {
   "codemirror_mode": {
    "name": "ipython",
    "version": 3
   },
   "file_extension": ".py",
   "mimetype": "text/x-python",
   "name": "python",
   "nbconvert_exporter": "python",
   "pygments_lexer": "ipython3",
   "version": "3.10.4"
  }
 },
 "nbformat": 4,
 "nbformat_minor": 2
}
