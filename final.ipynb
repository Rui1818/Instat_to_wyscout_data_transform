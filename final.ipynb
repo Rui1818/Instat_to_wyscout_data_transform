{
 "cells": [
  {
   "cell_type": "code",
   "execution_count": 1,
   "metadata": {},
   "outputs": [],
   "source": [
    "import json\n",
    "import pandas as pd\n",
    "import cmath\n",
    "import xml.etree.ElementTree as et\n",
    "import numpy as np\n",
    "from transformations import *\n"
   ]
  },
  {
   "cell_type": "code",
   "execution_count": 2,
   "metadata": {},
   "outputs": [],
   "source": [
    "global keeperA\n",
    "global keeperB\n",
    "global teamA\n",
    "global teamB\n",
    "global current_possession,poss_types, withshot,withshotongoal, withgoal, flank"
   ]
  },
  {
   "cell_type": "code",
   "execution_count": 3,
   "metadata": {},
   "outputs": [],
   "source": [
    "pd.set_option('display.max_columns', 5000)\n",
    "#pd.set_option('display.max_rows', None)"
   ]
  },
  {
   "cell_type": "code",
   "execution_count": 4,
   "metadata": {},
   "outputs": [],
   "source": [
    "def getformations(dataframe): \n",
    "    df=dataframe['action_name']\n",
    "    dft=dataframe['team_name']\n",
    "    list=[]\n",
    "    team=[]\n",
    "    for i in range(4):\n",
    "        x=df.iloc[i]\n",
    "        teams = dft.iloc[i]\n",
    "        if ('2'<x[0]<'6'):\n",
    "            list+=[x]\n",
    "            team+=[teams]\n",
    "\n",
    "    team1 = [team[0], list[0]]\n",
    "    team2 = [team[1], list[1]]\n",
    "            \n",
    "    return team1, team2"
   ]
  },
  {
   "cell_type": "code",
   "execution_count": 5,
   "metadata": {},
   "outputs": [],
   "source": [
    "#instatiate empty dataframe with wyscout format\n",
    "template_path='template.csv'\n",
    "df=pd.read_csv(template_path)\n",
    "wyscoutdf=df"
   ]
  },
  {
   "cell_type": "code",
   "execution_count": null,
   "metadata": {},
   "outputs": [],
   "source": []
  },
  {
   "cell_type": "code",
   "execution_count": 6,
   "metadata": {},
   "outputs": [],
   "source": [
    "#set all unknown attributes\n",
    "id=matchId=videoTimestamp=relatedEventId=teamId=opponentTeamId=playerId=passrecipientId=possessionId = 0\n",
    "possessioneventIndex=possessionteamId=groundDuelopponentId=groundDuelrelatedDuelId=infractionopponentId=shotgoalkeeperActionId=shotgoalkeeperId=aerialDuelopponentId=aerialDuelrelatedDuelId = 0\n",
    "passheight =groundduel_take_on= ground_side=None\n",
    "postshotxg=shotxg=shotgoalzone=possessionattackxg=aerialduelheight=aerialFirsttouch=aerialdueloppheight=np.nan\n"
   ]
  },
  {
   "cell_type": "code",
   "execution_count": 7,
   "metadata": {},
   "outputs": [],
   "source": [
    "#to do\n",
    "carry_x=carry_y=carry_prog=possessioneventsNumber=np.nan"
   ]
  },
  {
   "cell_type": "code",
   "execution_count": 8,
   "metadata": {},
   "outputs": [],
   "source": [
    "#load instat file\n",
    "instat_path = \"data/InStat_AXA_Super_2023-06-02_Switzerland. AXA Women's Super League_Servette Chenois_vs_Zurich_2582307_2023-06-02_Servette Chenois_vs_Zurich_2582307_rawdata - Kopie.xml\"\n",
    "instatdf=pd.read_xml(instat_path)\n",
    "instatdf=instatdf.iloc[2:,:]\n",
    "instatdf.drop(columns=['column','number','dl', 'id', 'uid', 'action_id', 'player_id', 'team_id', 'standart_id', 'ts', 'position_id', 'opponent_id', 'opponent_team_id','opponent_position_id', 'zone_id', 'zone_dest_id', 'possession_id', 'possession_team_id', 'possession_team_id', 'attack_status_id', 'attack_type_id', 'attack_team_id', 'body_id' ], inplace=True)\n",
    "#get the goalkeepers\n",
    "keeperA,keeperB= get_keepers(instatdf)\n",
    "\n"
   ]
  },
  {
   "cell_type": "code",
   "execution_count": null,
   "metadata": {},
   "outputs": [],
   "source": []
  },
  {
   "cell_type": "code",
   "execution_count": 9,
   "metadata": {},
   "outputs": [
    {
     "data": {
      "text/plain": [
       "['Ines Teixeira Pereira', 'Servette Chenois']"
      ]
     },
     "execution_count": 9,
     "metadata": {},
     "output_type": "execute_result"
    }
   ],
   "source": [
    "keeperA"
   ]
  },
  {
   "cell_type": "code",
   "execution_count": 9,
   "metadata": {},
   "outputs": [],
   "source": [
    "#remove unnecessairy rows\n",
    "mask = (instatdf['second']==0.00) & (~instatdf['player_name'].isna()) & (instatdf['action_name']!='Attacking pass accurate')\n",
    "instatdf = instatdf[~mask]\n",
    "todrop = ['line-up', 'Substitute player', '1st half','2nd half', 'Players, that created offside trap']\n",
    "mask = ~instatdf['action_name'].isin(todrop)\n",
    "instatdf = instatdf[mask]\n",
    "teamA,teamB=getformations(instatdf)"
   ]
  },
  {
   "cell_type": "code",
   "execution_count": 11,
   "metadata": {},
   "outputs": [
    {
     "data": {
      "text/plain": [
       "(['Servette Chenois', '4-2-3-1'], ['Zurich', '4-4-2 classic'])"
      ]
     },
     "execution_count": 11,
     "metadata": {},
     "output_type": "execute_result"
    }
   ],
   "source": [
    "teamA, teamB"
   ]
  },
  {
   "cell_type": "code",
   "execution_count": 10,
   "metadata": {},
   "outputs": [],
   "source": [
    "mask = (instatdf['second']==0)&(instatdf['action_name']!='Attacking pass accurate')\n",
    "instatdf = instatdf[~mask] \n",
    "#ready for wyscout transformation"
   ]
  },
  {
   "cell_type": "code",
   "execution_count": null,
   "metadata": {},
   "outputs": [],
   "source": [
    "instatdf"
   ]
  },
  {
   "cell_type": "code",
   "execution_count": null,
   "metadata": {},
   "outputs": [],
   "source": []
  },
  {
   "cell_type": "code",
   "execution_count": 14,
   "metadata": {},
   "outputs": [
    {
     "name": "stdout",
     "output_type": "stream",
     "text": [
      "action_name                         Attacking pass inaccurate\n",
      "player_name                                  Vanessa Bernauer\n",
      "team_name                                              Zurich\n",
      "half                                                      2.0\n",
      "second                                                2926.08\n",
      "standart_name                                       Open play\n",
      "position_name             Defensive midfielder - Left central\n",
      "opponent_name                            Nahla Elodie Nakkach\n",
      "opponent_team_name                           Servette Chenois\n",
      "opponent_position_name                Defender - Left central\n",
      "zone_name                                                  3R\n",
      "zone_dest_name                                             3R\n",
      "pos_x005F_x                                              64.6\n",
      "pos_y                                                    12.4\n",
      "pos_dest_x005F_x                                         76.3\n",
      "pos_dest_y                                               13.9\n",
      "len                                                      11.8\n",
      "possession_name                               Ball possession\n",
      "possession_team_name                         Servette Chenois\n",
      "possession_time                                           0.0\n",
      "possession_number                                       239.0\n",
      "direction                                                 NaN\n",
      "attack_status_name                                     Attack\n",
      "attack_type_name                            Positional attack\n",
      "attack_flang_id                                           1.0\n",
      "attack_flang_name                                  left flank\n",
      "attack_team_name                             Servette Chenois\n",
      "attack_number                                           168.0\n",
      "gate_x005F_x                                              NaN\n",
      "gate_y                                                    NaN\n",
      "body_name                                                None\n",
      "shot_type                                                None\n",
      "touches                                                  None\n",
      "shot_handling                                            None\n",
      "assistant_id                                              NaN\n",
      "assistant_name                                           None\n",
      "Name: 2632, dtype: object\n"
     ]
    }
   ],
   "source": [
    "row=instatdf.iloc[2468]\n",
    "print(row)"
   ]
  },
  {
   "cell_type": "code",
   "execution_count": null,
   "metadata": {},
   "outputs": [],
   "source": []
  },
  {
   "cell_type": "code",
   "execution_count": 12,
   "metadata": {},
   "outputs": [
    {
     "data": {
      "text/plain": [
       "'CB'"
      ]
     },
     "execution_count": 12,
     "metadata": {},
     "output_type": "execute_result"
    }
   ],
   "source": [
    "position_transform('Defender - Central', teamA[1])"
   ]
  },
  {
   "cell_type": "code",
   "execution_count": 13,
   "metadata": {},
   "outputs": [],
   "source": [
    "#instatiate first possession\n",
    "current_possession,poss_types, withshot,withshotongoal, withgoal, flank=setnewpossession(instatdf,0) #start x, y, end x, y, possession_duration, possessionstart index|possession types, attack variables\n"
   ]
  },
  {
   "cell_type": "code",
   "execution_count": 14,
   "metadata": {},
   "outputs": [],
   "source": [
    "def create_event(instat, ind, wyscout):\n",
    "    global current_possession,poss_types, withshot,withshotongoal, withgoal, flank\n",
    "    index_instat, typeprimary, typesecondary = get_event_type(instat, ind)\n",
    "    action = instat['action_name'].iloc[ind]\n",
    "    #setup every attribute\n",
    "    minute, second, matchTimestamp = get_time(instat, ind)\n",
    "    locx, locy = get_location(instat, ind)\n",
    "    teamname = instat['team_name'].iloc[ind]\n",
    "    teamformation = teamA[1] if (teamname==teamA[0]) else teamB[1]\n",
    "    oppteamname = teamB[0] if (teamname==teamA[0]) else teamA[0]\n",
    "    oppteamformation = teamB[1] if (teamname==teamA[0]) else teamA[1]\n",
    "    playername = instat['player_name'].iloc[ind]  #have to change to player names\n",
    "    playerposition = position_transform(instat['position_name'].iloc[ind], teamformation)\n",
    "    passlength = instat['len'].iloc[ind]\n",
    "    isnewposs,possindex = newposs(instat, ind, index_instat)\n",
    "    possteamname = instat['possession_team_name'].iloc[ind]\n",
    "    possteamformation = teamA[1] if (possteamname==teamA[0]) else teamB[1]\n",
    "    possession = instat['possession_name'].iloc[ind]\n",
    "    keptPoss=None if ('defensive_duel' in typesecondary) else (False if possession=='Transition of possession' else True)\n",
    "    stopped_prog=None if ('offensive_duel' in typesecondary) else (True if possession=='Transition of possession' else False)\n",
    "    keepercoord_x, keepercoord_y=get_goalkeeper_coordinates(instat, ind, index_instat, keeperA, keeperB)\n",
    "\n",
    "    #passing\n",
    "    if not (pd.isna(instat[\"pos_dest_x005F_x\"].iloc[ind])):\n",
    "        passaccurate=isaccurate_pass(action)\n",
    "        passangle=calculate_angle(instat[\"pos_x005F_x\"].iloc[ind], instat[\"pos_y\"].iloc[ind], instat[\"pos_dest_x005F_x\"].iloc[ind], instat[\"pos_dest_y\"].iloc[ind])\n",
    "        passend_x, passend_y=get_dest_location(instat,ind)\n",
    "        if(passaccurate):\n",
    "            passrec, passrec_pos_instat = get_pass_recipient(instat, ind)\n",
    "            passrec_pos = position_transform(passrec_pos_instat, teamformation) \n",
    "        else:passrec= passrec_pos_instat=passrec_pos=np.nan\n",
    "    else:\n",
    "        passaccurate=passangle=passend_x=passend_y=passrec=passrec_pos=np.nan\n",
    "    \n",
    "    #shot\n",
    "    if (isshot(action)):\n",
    "        goalkeeper = keeperA[0] if (teamname!=keeperA[1]) else keeperB[0]\n",
    "        bodypart=bodypart_transform(instat['body_name'].iloc[ind])\n",
    "        isgoal= True if 'goal' in typesecondary else False\n",
    "        isontarget= True if (action=='Shot on target' or action == 'Goal') else False\n",
    "    else:\n",
    "        bodypart=isgoal=isontarget=goalkeeper=np.nan\n",
    "\n",
    "    #infraction\n",
    "    if(action=='infraction'):\n",
    "        isyellow=True if ('yellow_card' in typesecondary) else False\n",
    "        isred = True if ('red_card' in typesecondary) else False\n",
    "        infraction_type = 'regular_foul' if action!='Deferred foul' else 'late_card_foul' #there are more types of fouls\n",
    "        infractionopp = instat['opponent_name'].iloc[ind]\n",
    "        infractionopp_pos = position_transform(instat['opponent_position_name'].iloc[ind], oppteamformation)\n",
    "    else:\n",
    "        isyellow=isred=infraction_type=infractionopp=infractionopp_pos=np.nan\n",
    "\n",
    "    #duel\n",
    "    if(typeprimary=='duel'):\n",
    "        aerialopp=aerialopp_pos=groundopp=groundopp_pos =grounddueltype=np.nan \n",
    "        ground_stopped_prog=ground_recov_poss =ground_side=groundkeptposs=groundduel_progressed_with_ball=np.nan\n",
    "\n",
    "        duelopp = instat['opponent_name'].iloc[ind]\n",
    "        duelopp_pos = position_transform(instat['opponent_position_name'].iloc[ind], oppteamformation)\n",
    "\n",
    "        #adjust loss tag\n",
    "\n",
    "        if ('loss' in typesecondary):\n",
    "            if(stopped_prog==True):\n",
    "                typesecondary.remove('loss')\n",
    "\n",
    "        if ('aerial_duel' in typesecondary):\n",
    "            aerialopp=duelopp\n",
    "            aerialopp_pos = duelopp_pos\n",
    "            \n",
    "        else:\n",
    "            \n",
    "            groundopp=duelopp\n",
    "            groundopp_pos = duelopp_pos\n",
    "            grounddueltype = 'dribble' if 'dribble' in typesecondary else ('defensive_duel' if 'defensive_duel' in typesecondary else 'offensive_duel')\n",
    "            groundkeptposs = keptPoss\n",
    "            groundduel_progressed_with_ball=groundkeptposs #not so clear what progressed with ball means exactly\n",
    "            ground_stopped_prog=stopped_prog\n",
    "            ground_recov_poss =ground_stopped_prog #not so clear\n",
    "            \n",
    "\n",
    "    else:\n",
    "        aerialopp=aerialopp_pos=groundopp=groundopp_pos =grounddueltype=np.nan \n",
    "        ground_stopped_prog=ground_recov_poss =ground_side=groundkeptposs=groundduel_progressed_with_ball=np.nan\n",
    "\n",
    "\n",
    "    \n",
    "    #possession\n",
    "    if (current_possession[5]>ind):\n",
    "        poss_x=poss_y=endposs_x=endposs_y=np.nan\n",
    "    else:\n",
    "        poss_x=current_possession[0]\n",
    "        poss_y=current_possession[1]\n",
    "        endposs_x=current_possession[2]\n",
    "        endposs_y=current_possession[3]\n",
    "    \n",
    "    if (isnewposs==True):\n",
    "        current_possession,poss_types, withshot,withshotongoal, withgoal, flank = setnewpossession(instat, possindex+1) \n",
    "\n",
    "    new_event = {\n",
    "        \"id\": id,\n",
    "        \"matchId\": matchId,\n",
    "        \"matchPeriod\":get_period(instat,ind),\n",
    "        \"minute\":minute,\n",
    "        \"second\":second,\n",
    "        \"matchTimestamp\":matchTimestamp,\n",
    "        \"videoTimestamp\":videoTimestamp,\n",
    "        \"relatedEventId\":relatedEventId,\n",
    "        \"shot\":np.nan,\n",
    "        \"groundDuel\":np.nan,\n",
    "        \"aerialDuel\":np.nan,\n",
    "        \"infraction\":np.nan,\n",
    "        \"carry\":np.nan,\n",
    "        \"type.primary\":typeprimary,\t\n",
    "        \"type.secondary\":typesecondary,\n",
    "        \"location.x\":locx,\t\n",
    "        \"location.y\":locy,\t\n",
    "        \"team.id\":teamId,\t\n",
    "        \"team.name\": teamname,\t\n",
    "        \"team.formation\":teamformation,\t\n",
    "        \"opponentTeam.id\":opponentTeamId,\n",
    "        \"opponentTeam.name\":oppteamname,\t\n",
    "        \"opponentTeam.formation\":oppteamformation,\t\n",
    "        \"player.id\":playerId,\t\n",
    "        \"player.name\":playername,\t\n",
    "        \"player.position\":playerposition,\t\n",
    "        \"pass.accurate\":passaccurate,\t\n",
    "        \"pass.angle\":passangle,\t\n",
    "        \"pass.height\":passheight,\t\n",
    "        \"pass.length\":passlength,\t\n",
    "        \"pass.recipient.id\":passrecipientId,\t\n",
    "        \"pass.recipient.name\":passrec,\t\n",
    "        \"pass.recipient.position\":passrec_pos,\n",
    "        \"pass.endLocation.x\":passend_x,\t\n",
    "        \"pass.endLocation.y\":passend_y,\t\n",
    "        \"possession.id\":possessionId,\t\n",
    "        \"possession.duration\":current_possession[4],\t\n",
    "        \"possession.types\":poss_types,\t\n",
    "        \"possession.eventsNumber\":possessioneventsNumber,\t\n",
    "        \"possession.eventIndex\":possessioneventIndex,\t\n",
    "        \"possession.startLocation.x\":poss_x,\n",
    "        \"possession.startLocation.y\":poss_y,\t\n",
    "        \"possession.endLocation.x\":endposs_x,\t\n",
    "        \"possession.endLocation.y\":endposs_y,\t\n",
    "        \"possession.team.id\":possessionteamId,\t\n",
    "        \"possession.team.name\":possteamname,\t\n",
    "        \"possession.team.formation\":possteamformation,\t\n",
    "        \"possession.attack\":np.nan,\t\n",
    "        \"pass\":np.nan,\n",
    "        \"groundDuel.opponent.id\":groundDuelopponentId,\t\n",
    "        \"groundDuel.opponent.name\":groundopp,\t\n",
    "        \"groundDuel.opponent.position\":groundopp_pos,\t\n",
    "        \"groundDuel.duelType\":grounddueltype,\t\n",
    "        \"groundDuel.keptPossession\":groundkeptposs,\t\n",
    "        \"groundDuel.progressedWithBall\":groundduel_progressed_with_ball,\t\n",
    "        \"groundDuel.stoppedProgress\":ground_stopped_prog,\t\n",
    "        \"groundDuel.recoveredPossession\":ground_recov_poss,\t\n",
    "        \"groundDuel.takeOn\":groundduel_take_on,\t\n",
    "        \"groundDuel.side\":ground_side,\n",
    "        \"groundDuel.relatedDuelId\":groundDuelrelatedDuelId,\t\n",
    "        \"infraction.yellowCard\":isyellow,\t\n",
    "        \"infraction.redCard\":isred,\t\n",
    "        \"infraction.type\":infraction_type,\t\n",
    "        \"infraction.opponent.id\":infractionopponentId,\t\n",
    "        \"infraction.opponent.name\":infractionopp,\t\n",
    "        \"infraction.opponent.position\":infractionopp_pos,\t\n",
    "        \"possession.attack.withShot\":withshot,\t\n",
    "        \"possession.attack.withShotOnGoal\":withshotongoal,\t\n",
    "        \"possession.attack.withGoal\":withgoal,\t\n",
    "        \"possession.attack.flank\":flank,\t\n",
    "        \"possession.attack.xg\":possessionattackxg,\t\n",
    "        \"carry.progression\":carry_prog,\t\n",
    "        \"carry.endLocation.x\":carry_x,\t\n",
    "        \"carry.endLocation.y\":carry_y,\t\n",
    "        \"shot.bodyPart\":bodypart,\t\n",
    "        \"shot.isGoal\":isgoal,\t\n",
    "        \"shot.onTarget\":isontarget,\t\n",
    "        \"shot.goalZone\":shotgoalzone,\t\n",
    "        \"shot.xg\": shotxg,\t\n",
    "        \"shot.postShotXg\":postshotxg,\t\n",
    "        \"shot.goalkeeperActionId\":shotgoalkeeperActionId,\t\n",
    "        \"shot.goalkeeper.id\":shotgoalkeeperId,\t\n",
    "        \"shot.goalkeeper.name\":goalkeeper,\t\n",
    "        \"possession\":np.nan,\t\n",
    "        \"aerialDuel.opponent.id\":aerialDuelopponentId,\t\n",
    "        \"aerialDuel.opponent.name\":aerialopp,\t\n",
    "        \"aerialDuel.opponent.position\":aerialopp_pos,\t\n",
    "        \"aerialDuel.opponent.height\":aerialdueloppheight,\t\n",
    "        \"aerialDuel.firstTouch\":aerialFirsttouch,\t\n",
    "        \"aerialDuel.height\":aerialduelheight,\t\n",
    "        \"aerialDuel.relatedDuelId\":aerialDuelrelatedDuelId,\t\n",
    "        \"shot.goalkeeper\":np.nan,\t\n",
    "        \"infraction.opponent\":np.nan,\t\n",
    "        \"location\":np.nan\n",
    "    }\n",
    "    print('index: ')\n",
    "    print(ind)\n",
    "    wdf = pd.concat([wyscout, pd.DataFrame([new_event])], ignore_index=True)\n",
    "    #check when second event has to be generated\n",
    "    if (typeprimary=='duel'):\n",
    "        new_event_2=create_second_duel_event(new_event, keptPoss, stopped_prog, current_possession,poss_types, withshot,withshotongoal, withgoal, flank, isnewposs,ind)\n",
    "        wdf = pd.concat([wdf, pd.DataFrame([new_event_2])], ignore_index=True)\n",
    "    elif (action=='Shot on target' or action=='Goal'):\n",
    "        new_event_2=create_second_shot_event(new_event, keeperA, keeperB, keepercoord_x, keepercoord_y)\n",
    "        wdf = pd.concat([wdf, pd.DataFrame([new_event_2])], ignore_index=True)\n",
    "     \n",
    "    return index_instat, wdf"
   ]
  },
  {
   "cell_type": "code",
   "execution_count": 15,
   "metadata": {},
   "outputs": [
    {
     "name": "stdout",
     "output_type": "stream",
     "text": [
      "nan\n"
     ]
    },
    {
     "ename": "Exception",
     "evalue": "position could not be found",
     "output_type": "error",
     "traceback": [
      "\u001b[1;31m---------------------------------------------------------------------------\u001b[0m",
      "\u001b[1;31mException\u001b[0m                                 Traceback (most recent call last)",
      "\u001b[1;32mc:\\Users\\Rui\\BA\\Instat_toWyscout_transform\\final.ipynb Cell 22\u001b[0m line \u001b[0;36m3\n\u001b[0;32m      <a href='vscode-notebook-cell:/c%3A/Users/Rui/BA/Instat_toWyscout_transform/final.ipynb#X34sZmlsZQ%3D%3D?line=0'>1</a>\u001b[0m index \u001b[39m=\u001b[39m \u001b[39m0\u001b[39m   \n\u001b[0;32m      <a href='vscode-notebook-cell:/c%3A/Users/Rui/BA/Instat_toWyscout_transform/final.ipynb#X34sZmlsZQ%3D%3D?line=1'>2</a>\u001b[0m \u001b[39mwhile\u001b[39;00m (\u001b[39mTrue\u001b[39;00m):\n\u001b[1;32m----> <a href='vscode-notebook-cell:/c%3A/Users/Rui/BA/Instat_toWyscout_transform/final.ipynb#X34sZmlsZQ%3D%3D?line=2'>3</a>\u001b[0m     index, df \u001b[39m=\u001b[39m create_event(instatdf, index, df)\n\u001b[0;32m      <a href='vscode-notebook-cell:/c%3A/Users/Rui/BA/Instat_toWyscout_transform/final.ipynb#X34sZmlsZQ%3D%3D?line=3'>4</a>\u001b[0m     \u001b[39mif\u001b[39;00m(instatdf[\u001b[39m'\u001b[39m\u001b[39maction_name\u001b[39m\u001b[39m'\u001b[39m]\u001b[39m.\u001b[39miloc[index]\u001b[39m==\u001b[39m\u001b[39m'\u001b[39m\u001b[39mMatch end\u001b[39m\u001b[39m'\u001b[39m):\n\u001b[0;32m      <a href='vscode-notebook-cell:/c%3A/Users/Rui/BA/Instat_toWyscout_transform/final.ipynb#X34sZmlsZQ%3D%3D?line=4'>5</a>\u001b[0m         \u001b[39mbreak\u001b[39;00m\n",
      "\u001b[1;32mc:\\Users\\Rui\\BA\\Instat_toWyscout_transform\\final.ipynb Cell 22\u001b[0m line \u001b[0;36m2\n\u001b[0;32m     <a href='vscode-notebook-cell:/c%3A/Users/Rui/BA/Instat_toWyscout_transform/final.ipynb#X34sZmlsZQ%3D%3D?line=26'>27</a>\u001b[0m     passend_x, passend_y\u001b[39m=\u001b[39mget_dest_location(instat,ind)\n\u001b[0;32m     <a href='vscode-notebook-cell:/c%3A/Users/Rui/BA/Instat_toWyscout_transform/final.ipynb#X34sZmlsZQ%3D%3D?line=27'>28</a>\u001b[0m     passrec, passrec_pos_instat \u001b[39m=\u001b[39m get_pass_recipient(instat, ind) \u001b[39mif\u001b[39;00m passaccurate \u001b[39melse\u001b[39;00m np\u001b[39m.\u001b[39mnan, np\u001b[39m.\u001b[39mnan\n\u001b[1;32m---> <a href='vscode-notebook-cell:/c%3A/Users/Rui/BA/Instat_toWyscout_transform/final.ipynb#X34sZmlsZQ%3D%3D?line=28'>29</a>\u001b[0m     passrec_pos \u001b[39m=\u001b[39m position_transform(passrec_pos_instat, teamformation) \u001b[39mif\u001b[39;00m passaccurate \u001b[39melse\u001b[39;00m np\u001b[39m.\u001b[39mnan\n\u001b[0;32m     <a href='vscode-notebook-cell:/c%3A/Users/Rui/BA/Instat_toWyscout_transform/final.ipynb#X34sZmlsZQ%3D%3D?line=29'>30</a>\u001b[0m \u001b[39melse\u001b[39;00m:\n\u001b[0;32m     <a href='vscode-notebook-cell:/c%3A/Users/Rui/BA/Instat_toWyscout_transform/final.ipynb#X34sZmlsZQ%3D%3D?line=30'>31</a>\u001b[0m     passaccurate\u001b[39m=\u001b[39mpassangle\u001b[39m=\u001b[39mpassend_x\u001b[39m=\u001b[39mpassend_y\u001b[39m=\u001b[39mpassrec\u001b[39m=\u001b[39mpassrec_pos\u001b[39m=\u001b[39mnp\u001b[39m.\u001b[39mnan\n",
      "File \u001b[1;32mc:\\Users\\Rui\\BA\\Instat_toWyscout_transform\\transformations.py:259\u001b[0m, in \u001b[0;36mposition_transform\u001b[1;34m(instat_position, formation)\u001b[0m\n\u001b[0;32m    257\u001b[0m \u001b[39mcase\u001b[39;00m \u001b[39m_\u001b[39;00m:\n\u001b[0;32m    258\u001b[0m     \u001b[39mprint\u001b[39m(instat_position)\n\u001b[1;32m--> 259\u001b[0m     \u001b[39mraise\u001b[39;00m \u001b[39mException\u001b[39;00m(\u001b[39m\"\u001b[39m\u001b[39mposition could not be found\u001b[39m\u001b[39m\"\u001b[39m)\n",
      "\u001b[1;31mException\u001b[0m: position could not be found"
     ]
    }
   ],
   "source": [
    "index = 0   \n",
    "while (True):\n",
    "    index, df = create_event(instatdf, index, df)\n",
    "    if(instatdf['action_name'].iloc[index]=='Match end'):\n",
    "        break\n"
   ]
  },
  {
   "cell_type": "code",
   "execution_count": null,
   "metadata": {},
   "outputs": [],
   "source": [
    "instatdf"
   ]
  },
  {
   "cell_type": "code",
   "execution_count": null,
   "metadata": {},
   "outputs": [],
   "source": []
  },
  {
   "cell_type": "code",
   "execution_count": null,
   "metadata": {},
   "outputs": [],
   "source": []
  }
 ],
 "metadata": {
  "kernelspec": {
   "display_name": "Python 3",
   "language": "python",
   "name": "python3"
  },
  "language_info": {
   "codemirror_mode": {
    "name": "ipython",
    "version": 3
   },
   "file_extension": ".py",
   "mimetype": "text/x-python",
   "name": "python",
   "nbconvert_exporter": "python",
   "pygments_lexer": "ipython3",
   "version": "3.10.4"
  }
 },
 "nbformat": 4,
 "nbformat_minor": 2
}
