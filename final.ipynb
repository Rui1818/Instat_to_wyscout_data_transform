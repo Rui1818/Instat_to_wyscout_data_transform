{
 "cells": [
  {
   "cell_type": "code",
   "execution_count": 1,
   "metadata": {},
   "outputs": [],
   "source": [
    "import json\n",
    "import pandas as pd\n",
    "import cmath\n",
    "import xml.etree.ElementTree as et\n",
    "import numpy as np\n",
    "from transformations import *\n"
   ]
  },
  {
   "cell_type": "code",
   "execution_count": 2,
   "metadata": {},
   "outputs": [],
   "source": [
    "pd.set_option('display.max_columns', 5000)\n",
    "#pd.set_option('display.max_rows', None)"
   ]
  },
  {
   "cell_type": "code",
   "execution_count": 3,
   "metadata": {},
   "outputs": [],
   "source": [
    "def getformations(dataframe): \n",
    "    df=dataframe['action_name']\n",
    "    dft=dataframe['team_name']\n",
    "    list=[]\n",
    "    team=[]\n",
    "    for i in range(4):\n",
    "        x=df.iloc[i]\n",
    "        teams = dft.iloc[i]\n",
    "        if ('2'<x[0]<'6'):\n",
    "            list+=[x]\n",
    "            team+=[teams]\n",
    "\n",
    "    team1 = [team[0], list[0]]\n",
    "    team2 = [team[1], list[1]]\n",
    "            \n",
    "    return team1, team2"
   ]
  },
  {
   "cell_type": "code",
   "execution_count": 4,
   "metadata": {},
   "outputs": [
    {
     "data": {
      "text/html": [
       "<div>\n",
       "<style scoped>\n",
       "    .dataframe tbody tr th:only-of-type {\n",
       "        vertical-align: middle;\n",
       "    }\n",
       "\n",
       "    .dataframe tbody tr th {\n",
       "        vertical-align: top;\n",
       "    }\n",
       "\n",
       "    .dataframe thead th {\n",
       "        text-align: right;\n",
       "    }\n",
       "</style>\n",
       "<table border=\"1\" class=\"dataframe\">\n",
       "  <thead>\n",
       "    <tr style=\"text-align: right;\">\n",
       "      <th></th>\n",
       "      <th>id</th>\n",
       "      <th>matchId</th>\n",
       "      <th>matchPeriod</th>\n",
       "      <th>minute</th>\n",
       "      <th>second</th>\n",
       "      <th>matchTimestamp</th>\n",
       "      <th>videoTimestamp</th>\n",
       "      <th>relatedEventId</th>\n",
       "      <th>shot</th>\n",
       "      <th>groundDuel</th>\n",
       "      <th>aerialDuel</th>\n",
       "      <th>infraction</th>\n",
       "      <th>carry</th>\n",
       "      <th>type.primary</th>\n",
       "      <th>type.secondary</th>\n",
       "      <th>location.x</th>\n",
       "      <th>location.y</th>\n",
       "      <th>team.id</th>\n",
       "      <th>team.name</th>\n",
       "      <th>team.formation</th>\n",
       "      <th>opponentTeam.id</th>\n",
       "      <th>opponentTeam.name</th>\n",
       "      <th>opponentTeam.formation</th>\n",
       "      <th>player.id</th>\n",
       "      <th>player.name</th>\n",
       "      <th>player.position</th>\n",
       "      <th>pass.accurate</th>\n",
       "      <th>pass.angle</th>\n",
       "      <th>pass.height</th>\n",
       "      <th>pass.length</th>\n",
       "      <th>pass.recipient.id</th>\n",
       "      <th>pass.recipient.name</th>\n",
       "      <th>pass.recipient.position</th>\n",
       "      <th>pass.endLocation.x</th>\n",
       "      <th>pass.endLocation.y</th>\n",
       "      <th>possession.id</th>\n",
       "      <th>possession.duration</th>\n",
       "      <th>possession.types</th>\n",
       "      <th>possession.eventsNumber</th>\n",
       "      <th>possession.eventIndex</th>\n",
       "      <th>possession.startLocation.x</th>\n",
       "      <th>possession.startLocation.y</th>\n",
       "      <th>possession.endLocation.x</th>\n",
       "      <th>possession.endLocation.y</th>\n",
       "      <th>possession.team.id</th>\n",
       "      <th>possession.team.name</th>\n",
       "      <th>possession.team.formation</th>\n",
       "      <th>possession.attack</th>\n",
       "      <th>pass</th>\n",
       "      <th>groundDuel.opponent.id</th>\n",
       "      <th>groundDuel.opponent.name</th>\n",
       "      <th>groundDuel.opponent.position</th>\n",
       "      <th>groundDuel.duelType</th>\n",
       "      <th>groundDuel.keptPossession</th>\n",
       "      <th>groundDuel.progressedWithBall</th>\n",
       "      <th>groundDuel.stoppedProgress</th>\n",
       "      <th>groundDuel.recoveredPossession</th>\n",
       "      <th>groundDuel.takeOn</th>\n",
       "      <th>groundDuel.side</th>\n",
       "      <th>groundDuel.relatedDuelId</th>\n",
       "      <th>infraction.yellowCard</th>\n",
       "      <th>infraction.redCard</th>\n",
       "      <th>infraction.type</th>\n",
       "      <th>infraction.opponent.id</th>\n",
       "      <th>infraction.opponent.name</th>\n",
       "      <th>infraction.opponent.position</th>\n",
       "      <th>possession.attack.withShot</th>\n",
       "      <th>possession.attack.withShotOnGoal</th>\n",
       "      <th>possession.attack.withGoal</th>\n",
       "      <th>possession.attack.flank</th>\n",
       "      <th>possession.attack.xg</th>\n",
       "      <th>carry.progression</th>\n",
       "      <th>carry.endLocation.x</th>\n",
       "      <th>carry.endLocation.y</th>\n",
       "      <th>shot.bodyPart</th>\n",
       "      <th>shot.isGoal</th>\n",
       "      <th>shot.onTarget</th>\n",
       "      <th>shot.goalZone</th>\n",
       "      <th>shot.xg</th>\n",
       "      <th>shot.postShotXg</th>\n",
       "      <th>shot.goalkeeperActionId</th>\n",
       "      <th>shot.goalkeeper.id</th>\n",
       "      <th>shot.goalkeeper.name</th>\n",
       "      <th>possession</th>\n",
       "      <th>aerialDuel.opponent.id</th>\n",
       "      <th>aerialDuel.opponent.name</th>\n",
       "      <th>aerialDuel.opponent.position</th>\n",
       "      <th>aerialDuel.opponent.height</th>\n",
       "      <th>aerialDuel.firstTouch</th>\n",
       "      <th>aerialDuel.height</th>\n",
       "      <th>aerialDuel.relatedDuelId</th>\n",
       "      <th>shot.goalkeeper</th>\n",
       "      <th>infraction.opponent</th>\n",
       "      <th>location</th>\n",
       "    </tr>\n",
       "  </thead>\n",
       "  <tbody>\n",
       "  </tbody>\n",
       "</table>\n",
       "</div>"
      ],
      "text/plain": [
       "Empty DataFrame\n",
       "Columns: [id, matchId, matchPeriod, minute, second, matchTimestamp, videoTimestamp, relatedEventId, shot, groundDuel, aerialDuel, infraction, carry, type.primary, type.secondary, location.x, location.y, team.id, team.name, team.formation, opponentTeam.id, opponentTeam.name, opponentTeam.formation, player.id, player.name, player.position, pass.accurate, pass.angle, pass.height, pass.length, pass.recipient.id, pass.recipient.name, pass.recipient.position, pass.endLocation.x, pass.endLocation.y, possession.id, possession.duration, possession.types, possession.eventsNumber, possession.eventIndex, possession.startLocation.x, possession.startLocation.y, possession.endLocation.x, possession.endLocation.y, possession.team.id, possession.team.name, possession.team.formation, possession.attack, pass, groundDuel.opponent.id, groundDuel.opponent.name, groundDuel.opponent.position, groundDuel.duelType, groundDuel.keptPossession, groundDuel.progressedWithBall, groundDuel.stoppedProgress, groundDuel.recoveredPossession, groundDuel.takeOn, groundDuel.side, groundDuel.relatedDuelId, infraction.yellowCard, infraction.redCard, infraction.type, infraction.opponent.id, infraction.opponent.name, infraction.opponent.position, possession.attack.withShot, possession.attack.withShotOnGoal, possession.attack.withGoal, possession.attack.flank, possession.attack.xg, carry.progression, carry.endLocation.x, carry.endLocation.y, shot.bodyPart, shot.isGoal, shot.onTarget, shot.goalZone, shot.xg, shot.postShotXg, shot.goalkeeperActionId, shot.goalkeeper.id, shot.goalkeeper.name, possession, aerialDuel.opponent.id, aerialDuel.opponent.name, aerialDuel.opponent.position, aerialDuel.opponent.height, aerialDuel.firstTouch, aerialDuel.height, aerialDuel.relatedDuelId, shot.goalkeeper, infraction.opponent, location]\n",
       "Index: []"
      ]
     },
     "execution_count": 4,
     "metadata": {},
     "output_type": "execute_result"
    }
   ],
   "source": [
    "#instatiate\n",
    "template_path='template.csv'\n",
    "df=pd.read_csv(template_path)\n",
    "df"
   ]
  },
  {
   "cell_type": "code",
   "execution_count": null,
   "metadata": {},
   "outputs": [],
   "source": []
  },
  {
   "cell_type": "code",
   "execution_count": 5,
   "metadata": {},
   "outputs": [],
   "source": [
    "#set all unknown attributes\n",
    "id=matchId=videoTimestamp=relatedEventId=teamId=opponentTeamId=playerId=passrecipientId=possessionId=possessioneventsNumber = 0\n",
    "possessioneventIndex=possessionteamId=groundDuelopponentId=groundDuelrelatedDuelId=infractionopponentId=shotgoalkeeperActionId=shotgoalkeeperId=aerialDuelopponentId=aerialDuelrelatedDuelId = 0\n",
    "passheight = None\n",
    "shotxg=shotgoalzone=possessionattackxg=aerialduelheight=aerialFirsttouch=aerialdueloppheight=np.nan\n"
   ]
  },
  {
   "cell_type": "code",
   "execution_count": 6,
   "metadata": {},
   "outputs": [],
   "source": [
    "#load instat file\n",
    "instat_path = \"data/InStat_AXA_Super_2023-06-02_Switzerland. AXA Women's Super League_Servette Chenois_vs_Zurich_2582307_2023-06-02_Servette Chenois_vs_Zurich_2582307_rawdata - Kopie.xml\"\n",
    "instatdf=pd.read_xml(instat_path)\n",
    "instatdf=instatdf.iloc[2:,:]\n",
    "instatdf.drop(columns=['column','number','dl', 'id', 'uid', 'action_id', 'player_id', 'team_id', 'standart_id', 'ts', 'position_id', 'opponent_id', 'opponent_team_id','opponent_position_id', 'zone_id', 'zone_dest_id', 'possession_id', 'possession_team_id', 'possession_team_id', 'attack_status_id', 'attack_type_id', 'attack_team_id', 'body_id' ], inplace=True)\n",
    "mask = (instatdf['second']==0.00) & (~instatdf['player_name'].isna()) & (instatdf['action_name']!='Attacking pass accurate')\n",
    "instatdf = instatdf[~mask]\n",
    "todrop = ['line-up', 'Substitute player', '1st half','2nd half', 'Players, that created offside trap']\n",
    "mask = ~instatdf['action_name'].isin(todrop)\n",
    "instatdf = instatdf[mask]\n",
    "teamA,teamB=getformations(instatdf)"
   ]
  },
  {
   "cell_type": "code",
   "execution_count": 8,
   "metadata": {},
   "outputs": [
    {
     "data": {
      "text/plain": [
       "(['Servette Chenois', '4-2-3-1'], ['Zurich', '4-4-2 classic'])"
      ]
     },
     "execution_count": 8,
     "metadata": {},
     "output_type": "execute_result"
    }
   ],
   "source": [
    "teamA, teamB"
   ]
  },
  {
   "cell_type": "code",
   "execution_count": null,
   "metadata": {},
   "outputs": [],
   "source": [
    "instatdf"
   ]
  },
  {
   "cell_type": "code",
   "execution_count": 7,
   "metadata": {},
   "outputs": [],
   "source": [
    "mask = (instatdf['second']==0)&(instatdf['action_name']!='Attacking pass accurate')\n",
    "instatdf = instatdf[~mask] \n",
    "#ready for wyscout transformation"
   ]
  },
  {
   "cell_type": "code",
   "execution_count": null,
   "metadata": {},
   "outputs": [],
   "source": [
    "#set the first possession length"
   ]
  },
  {
   "cell_type": "code",
   "execution_count": null,
   "metadata": {},
   "outputs": [],
   "source": [
    "#get the index for the new event\n",
    "def next_event(df, index): \n",
    "    ind = index\n",
    "    return ind"
   ]
  },
  {
   "cell_type": "code",
   "execution_count": 10,
   "metadata": {},
   "outputs": [
    {
     "data": {
      "text/plain": [
       "'CB'"
      ]
     },
     "execution_count": 10,
     "metadata": {},
     "output_type": "execute_result"
    }
   ],
   "source": [
    "position_transform('Defender - Central', teamA[1])"
   ]
  },
  {
   "cell_type": "code",
   "execution_count": 25,
   "metadata": {},
   "outputs": [
    {
     "data": {
      "text/plain": [
       "True"
      ]
     },
     "execution_count": 25,
     "metadata": {},
     "output_type": "execute_result"
    }
   ],
   "source": [
    "x=\"Offside\"\n",
    "x=='Offside'"
   ]
  },
  {
   "cell_type": "code",
   "execution_count": 8,
   "metadata": {},
   "outputs": [],
   "source": [
    "current_possession,poss_types, withshot,withshotongoal, withgoal, flank=setnewpossession(instatdf,0) #start x, y, end x, y, possession_length, possessionstart index|possession types, attack variables\n"
   ]
  },
  {
   "cell_type": "code",
   "execution_count": 11,
   "metadata": {},
   "outputs": [
    {
     "data": {
      "text/plain": [
       "nan"
      ]
     },
     "execution_count": 11,
     "metadata": {},
     "output_type": "execute_result"
    }
   ],
   "source": [
    "flank"
   ]
  },
  {
   "cell_type": "code",
   "execution_count": 23,
   "metadata": {},
   "outputs": [
    {
     "data": {
      "text/plain": [
       "False"
      ]
     },
     "execution_count": 23,
     "metadata": {},
     "output_type": "execute_result"
    }
   ],
   "source": [
    "(None in [1])"
   ]
  },
  {
   "cell_type": "code",
   "execution_count": 12,
   "metadata": {},
   "outputs": [],
   "source": [
    "def create_event(instat, ind, wyscout):\n",
    "    index_instat, typeprimary, typesecondary = get_event_type(instat, ind)\n",
    "    #setup every attribute\n",
    "    minute, second, matchTimestamp = get_time(instat, ind)\n",
    "    locx, locy = get_location(instat, ind)\n",
    "    teamname = instat['team_name'].iloc[ind]\n",
    "    teamformation = teamA[1] if (teamname==teamA[0]) else teamB[1]\n",
    "    oppteamname = teamB[0] if (teamname==teamA[0]) else teamA[0]\n",
    "    oppteamformation = teamB[1] if (teamname==teamA[0]) else teamA[1]\n",
    "    playername = instat['player_name'].iloc[ind]\n",
    "    playerposition = position_transform(instat['position_name'].iloc[ind], teamformation)\n",
    "    passlength = instat['len'].iloc[ind]\n",
    "    possessionlength = instat['possession_time'].iloc[ind]\n",
    "    possteamname = instat['possession_team_name'].iloc[ind]\n",
    "    possteamformation = teamA[1] if (possteamname==teamA[0]) else teamB[1]\n",
    "\n",
    "    if (current_possession[5]>ind):\n",
    "        poss_x=poss_y=endposs_x=endposs_y=np.nan\n",
    "    else:\n",
    "        poss_x=current_possession[0]\n",
    "        poss_y=current_possession[1]\n",
    "        endposs_x=current_possession[2]\n",
    "        endposs_y=current_possession[3]\n",
    "    \n",
    "    if (possessionlength>0):\n",
    "        current_possession,poss_types, withshot,withshotongoal, withgoal, flank = setnewpossession(instat, ind+1) \n",
    "    \n",
    "    \n",
    "    new_event = {\n",
    "        \"id\": id,\n",
    "        \"matchId\": matchId,\n",
    "        \"matchPeriod\":get_period(instat,ind),\n",
    "        \"minute\":minute,\n",
    "        \"second\":second,\n",
    "        \"matchTimestamp\":matchTimestamp,\n",
    "        \"videoTimestamp\":videoTimestamp,\n",
    "        \"relatedEventId\":relatedEventId,\n",
    "        \"shot\":1,\n",
    "        \"groundDuel\":1,\n",
    "        \"aerialDuel\":1,\n",
    "        \"infraction\":1,\n",
    "        \"carry\":1,\n",
    "        \"type.primary\":1,\t#\n",
    "        \"type.secondary\":1,#\n",
    "        \"location.x\":locx,\t\n",
    "        \"location.y\":locy,\t\n",
    "        \"team.id\":teamId,\t\n",
    "        \"team.name\": teamname,\t\n",
    "        \"team.formation\":teamformation,\t\n",
    "        \"opponentTeam.id\":opponentTeamId,\n",
    "        \"opponentTeam.name\":oppteamname,\t\n",
    "        \"opponentTeam.formation\":oppteamformation,\t\n",
    "        \"player.id\":playerId,\t\n",
    "        \"player.name\":playername,\t\n",
    "        \"player.position\":playerposition,\t\n",
    "        \"pass.accurate\":1,\t#\n",
    "        \"pass.angle\":1,\t#\n",
    "        \"pass.height\":passheight,\t\n",
    "        \"pass.length\":passlength,\t\n",
    "        \"pass.recipient.id\":passrecipientId,\t\n",
    "        \"pass.recipient.name\":1,\t#\n",
    "        \"pass.recipient.position\":1,#\n",
    "        \"pass.endLocation.x\":1,\t#\n",
    "        \"pass.endLocation.y\":1,\t#\n",
    "        \"possession.id\":possessionId,\t\n",
    "        \"possession.duration\":current_possession[4],\t\n",
    "        \"possession.types\":poss_types,\t\n",
    "        \"possession.eventsNumber\":possessioneventsNumber,\t\n",
    "        \"possession.eventIndex\":possessioneventIndex,\t\n",
    "        \"possession.startLocation.x\":poss_x,\n",
    "        \"possession.startLocation.y\":poss_y,\t\n",
    "        \"possession.endLocation.x\":endposs_x,\t\n",
    "        \"possession.endLocation.y\":endposs_y,\t\n",
    "        \"possession.team.id\":possessionteamId,\t\n",
    "        \"possession.team.name\":possteamname,\t\n",
    "        \"possession.team.formation\":possteamformation,\t\n",
    "        \"possession.attack\":1,\t\n",
    "        \"pass\":1,\t\n",
    "        \"groundDuel.opponent.id\":groundDuelopponentId,\t\n",
    "        \"groundDuel.opponent.name\":1,\t\n",
    "        \"groundDuel.opponent.position\":1,\t\n",
    "        \"groundDuel.duelType\":1,\t\n",
    "        \"groundDuel.keptPossession\":1,\t\n",
    "        \"groundDuel.progressedWithBall\":1,\t\n",
    "        \"groundDuel.stoppedProgress\":1,\t\n",
    "        \"groundDuel.recoveredPossession\":1,\t\n",
    "        \"groundDuel.takeOn\":1,\t\n",
    "        \"groundDuel.side\":1,\t\n",
    "        \"groundDuel.relatedDuelId\":groundDuelrelatedDuelId,\t\n",
    "        \"infraction.yellowCard\":1,\t\n",
    "        \"infraction.redCard\":1,\t\n",
    "        \"infraction.type\":1,\t\n",
    "        \"infraction.opponent.id\":infractionopponentId,\t\n",
    "        \"infraction.opponent.name\":1,\t\n",
    "        \"infraction.opponent.position\":1,\t\n",
    "        \"possession.attack.withShot\":withshot,\t\n",
    "        \"possession.attack.withShotOnGoal\":withshotongoal,\t\n",
    "        \"possession.attack.withGoal\":withgoal,\t\n",
    "        \"possession.attack.flank\":flank,\t\n",
    "        \"possession.attack.xg\":possessionattackxg,\t\n",
    "        \"carry.progression\":1,\t\n",
    "        \"carry.endLocation.x\":1,\t\n",
    "        \"carry.endLocation.y\":1,\t\n",
    "        \"shot.bodyPart\":1,\t\n",
    "        \"shot.isGoal\":1,\t\n",
    "        \"shot.onTarget\":1,\t\n",
    "        \"shot.goalZone\":shotgoalzone,\t\n",
    "        \"shot.xg\": shotxg,\t\n",
    "        \"shot.postShotXg\":1,\t\n",
    "        \"shot.goalkeeperActionId\":shotgoalkeeperActionId,\t\n",
    "        \"shot.goalkeeper.id\":shotgoalkeeperId,\t\n",
    "        \"shot.goalkeeper.name\":1,\t\n",
    "        \"possession\":1,\t\n",
    "        \"aerialDuel.opponent.id\":aerialDuelopponentId,\t\n",
    "        \"aerialDuel.opponent.name\":1,\t\n",
    "        \"aerialDuel.opponent.position\":1,\t\n",
    "        \"aerialDuel.opponent.height\":aerialdueloppheight,\t\n",
    "        \"aerialDuel.firstTouch\":aerialFirsttouch,\t\n",
    "        \"aerialDuel.height\":aerialduelheight,\t\n",
    "        \"aerialDuel.relatedDuelId\":aerialDuelrelatedDuelId,\t\n",
    "        \"shot.goalkeeper\":1,\t\n",
    "        \"infraction.opponent\":1,\t\n",
    "        \"location\":1,\n",
    "    }\n",
    "    wdf = pd.concat([wyscout, pd.DataFrame([new_event])], ignore_index=True)\n",
    "    \n",
    "    \n",
    "    matchend=False\n",
    "    return instat, index_instat, wdf"
   ]
  },
  {
   "cell_type": "code",
   "execution_count": null,
   "metadata": {},
   "outputs": [],
   "source": [
    "a,b,c=create_event(instatdf, 0, df)\n",
    "c"
   ]
  },
  {
   "cell_type": "code",
   "execution_count": null,
   "metadata": {},
   "outputs": [],
   "source": [
    "matchend=True\n",
    "index = 0   \n",
    "while (matchend):\n",
    "    instatdf, index, df = create_event(instatdf, index, df)\n",
    "    if(instatdf['action_name'].iloc[index]=='Match end'):\n",
    "        break\n",
    "     \n",
    "    \n",
    "    \n",
    "\n",
    "\n",
    "\n"
   ]
  },
  {
   "cell_type": "code",
   "execution_count": null,
   "metadata": {},
   "outputs": [],
   "source": [
    "def parseaction(instat, ind, wyscout):\n",
    "    newind=ind\n",
    "    starttime\n",
    "    return newind"
   ]
  },
  {
   "cell_type": "code",
   "execution_count": null,
   "metadata": {},
   "outputs": [],
   "source": [
    "instatdf"
   ]
  },
  {
   "cell_type": "code",
   "execution_count": null,
   "metadata": {},
   "outputs": [],
   "source": [
    "\n"
   ]
  },
  {
   "cell_type": "code",
   "execution_count": null,
   "metadata": {},
   "outputs": [],
   "source": []
  },
  {
   "cell_type": "code",
   "execution_count": null,
   "metadata": {},
   "outputs": [],
   "source": []
  },
  {
   "cell_type": "code",
   "execution_count": null,
   "metadata": {},
   "outputs": [],
   "source": []
  }
 ],
 "metadata": {
  "kernelspec": {
   "display_name": "Python 3",
   "language": "python",
   "name": "python3"
  },
  "language_info": {
   "codemirror_mode": {
    "name": "ipython",
    "version": 3
   },
   "file_extension": ".py",
   "mimetype": "text/x-python",
   "name": "python",
   "nbconvert_exporter": "python",
   "pygments_lexer": "ipython3",
   "version": "3.10.4"
  }
 },
 "nbformat": 4,
 "nbformat_minor": 2
}
