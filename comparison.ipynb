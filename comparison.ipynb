{
 "cells": [
  {
   "cell_type": "code",
   "execution_count": 1,
   "metadata": {},
   "outputs": [],
   "source": [
    "from final_transform import *\n",
    "import json"
   ]
  },
  {
   "cell_type": "code",
   "execution_count": 2,
   "metadata": {},
   "outputs": [],
   "source": [
    "pd.set_option('display.max_columns', 5000)"
   ]
  },
  {
   "cell_type": "code",
   "execution_count": 3,
   "metadata": {},
   "outputs": [],
   "source": [
    "datapath = \"data/InStat_AXA_Super_2023-06-02_Switzerland. AXA Women's Super League_Servette Chenois_vs_Zurich_2582307_2023-06-02_Servette Chenois_vs_Zurich_2582307_rawdata - Kopie.xml\""
   ]
  },
  {
   "cell_type": "code",
   "execution_count": 4,
   "metadata": {},
   "outputs": [
    {
     "name": "stderr",
     "output_type": "stream",
     "text": [
      "c:\\Users\\Rui\\BA\\Instat_toWyscout_transform\\instat_to_wyscout_pandas.py:266: FutureWarning: The behavior of DataFrame concatenation with empty or all-NA entries is deprecated. In a future version, this will no longer exclude empty or all-NA columns when determining the result dtypes. To retain the old behavior, exclude the relevant entries before the concat operation.\n",
      "  wyscout = pd.concat([wyscout, pd.DataFrame([new_event])], ignore_index=True)\n",
      "c:\\Users\\Rui\\BA\\Instat_toWyscout_transform\\transformations.py:967: SettingWithCopyWarning: \n",
      "A value is trying to be set on a copy of a slice from a DataFrame\n",
      "\n",
      "See the caveats in the documentation: https://pandas.pydata.org/pandas-docs/stable/user_guide/indexing.html#returning-a-view-versus-a-copy\n",
      "  wyscout['type.secondary'].iloc[ind2]=secondary\n",
      "c:\\Users\\Rui\\BA\\Instat_toWyscout_transform\\transformations.py:967: SettingWithCopyWarning: \n",
      "A value is trying to be set on a copy of a slice from a DataFrame\n",
      "\n",
      "See the caveats in the documentation: https://pandas.pydata.org/pandas-docs/stable/user_guide/indexing.html#returning-a-view-versus-a-copy\n",
      "  wyscout['type.secondary'].iloc[ind2]=secondary\n",
      "c:\\Users\\Rui\\BA\\Instat_toWyscout_transform\\transformations.py:967: SettingWithCopyWarning: \n",
      "A value is trying to be set on a copy of a slice from a DataFrame\n",
      "\n",
      "See the caveats in the documentation: https://pandas.pydata.org/pandas-docs/stable/user_guide/indexing.html#returning-a-view-versus-a-copy\n",
      "  wyscout['type.secondary'].iloc[ind2]=secondary\n"
     ]
    },
    {
     "name": "stdout",
     "output_type": "stream",
     "text": [
      "reached\n"
     ]
    },
    {
     "name": "stderr",
     "output_type": "stream",
     "text": [
      "c:\\Users\\Rui\\BA\\Instat_toWyscout_transform\\transformations.py:963: SettingWithCopyWarning: \n",
      "A value is trying to be set on a copy of a slice from a DataFrame\n",
      "\n",
      "See the caveats in the documentation: https://pandas.pydata.org/pandas-docs/stable/user_guide/indexing.html#returning-a-view-versus-a-copy\n",
      "  wyscout['type.secondary'].iloc[ind]=secondary\n",
      "c:\\Users\\Rui\\BA\\Instat_toWyscout_transform\\transformations.py:967: SettingWithCopyWarning: \n",
      "A value is trying to be set on a copy of a slice from a DataFrame\n",
      "\n",
      "See the caveats in the documentation: https://pandas.pydata.org/pandas-docs/stable/user_guide/indexing.html#returning-a-view-versus-a-copy\n",
      "  wyscout['type.secondary'].iloc[ind2]=secondary\n",
      "c:\\Users\\Rui\\BA\\Instat_toWyscout_transform\\transformations.py:967: SettingWithCopyWarning: \n",
      "A value is trying to be set on a copy of a slice from a DataFrame\n",
      "\n",
      "See the caveats in the documentation: https://pandas.pydata.org/pandas-docs/stable/user_guide/indexing.html#returning-a-view-versus-a-copy\n",
      "  wyscout['type.secondary'].iloc[ind2]=secondary\n",
      "c:\\Users\\Rui\\BA\\Instat_toWyscout_transform\\transformations.py:967: SettingWithCopyWarning: \n",
      "A value is trying to be set on a copy of a slice from a DataFrame\n",
      "\n",
      "See the caveats in the documentation: https://pandas.pydata.org/pandas-docs/stable/user_guide/indexing.html#returning-a-view-versus-a-copy\n",
      "  wyscout['type.secondary'].iloc[ind2]=secondary\n"
     ]
    },
    {
     "name": "stdout",
     "output_type": "stream",
     "text": [
      "reached\n"
     ]
    },
    {
     "name": "stderr",
     "output_type": "stream",
     "text": [
      "c:\\Users\\Rui\\BA\\Instat_toWyscout_transform\\transformations.py:963: SettingWithCopyWarning: \n",
      "A value is trying to be set on a copy of a slice from a DataFrame\n",
      "\n",
      "See the caveats in the documentation: https://pandas.pydata.org/pandas-docs/stable/user_guide/indexing.html#returning-a-view-versus-a-copy\n",
      "  wyscout['type.secondary'].iloc[ind]=secondary\n",
      "c:\\Users\\Rui\\BA\\Instat_toWyscout_transform\\transformations.py:967: SettingWithCopyWarning: \n",
      "A value is trying to be set on a copy of a slice from a DataFrame\n",
      "\n",
      "See the caveats in the documentation: https://pandas.pydata.org/pandas-docs/stable/user_guide/indexing.html#returning-a-view-versus-a-copy\n",
      "  wyscout['type.secondary'].iloc[ind2]=secondary\n",
      "c:\\Users\\Rui\\BA\\Instat_toWyscout_transform\\transformations.py:967: SettingWithCopyWarning: \n",
      "A value is trying to be set on a copy of a slice from a DataFrame\n",
      "\n",
      "See the caveats in the documentation: https://pandas.pydata.org/pandas-docs/stable/user_guide/indexing.html#returning-a-view-versus-a-copy\n",
      "  wyscout['type.secondary'].iloc[ind2]=secondary\n",
      "c:\\Users\\Rui\\BA\\Instat_toWyscout_transform\\transformations.py:967: SettingWithCopyWarning: \n",
      "A value is trying to be set on a copy of a slice from a DataFrame\n",
      "\n",
      "See the caveats in the documentation: https://pandas.pydata.org/pandas-docs/stable/user_guide/indexing.html#returning-a-view-versus-a-copy\n",
      "  wyscout['type.secondary'].iloc[ind2]=secondary\n",
      "c:\\Users\\Rui\\BA\\Instat_toWyscout_transform\\transformations.py:967: SettingWithCopyWarning: \n",
      "A value is trying to be set on a copy of a slice from a DataFrame\n",
      "\n",
      "See the caveats in the documentation: https://pandas.pydata.org/pandas-docs/stable/user_guide/indexing.html#returning-a-view-versus-a-copy\n",
      "  wyscout['type.secondary'].iloc[ind2]=secondary\n"
     ]
    }
   ],
   "source": [
    "final_transform(datapath, 'comparisontest')"
   ]
  },
  {
   "cell_type": "code",
   "execution_count": 9,
   "metadata": {},
   "outputs": [],
   "source": [
    "refpath=\"data/wyscout.json\"\n",
    "testpath=\"comparisontest.json\""
   ]
  },
  {
   "cell_type": "code",
   "execution_count": null,
   "metadata": {},
   "outputs": [],
   "source": [
    "with open(refpath, 'r') as f:\n",
    "    rd = f.read()\n",
    "obj = json.loads(rd)\n",
    "dfref = pd.json_normalize(obj)\n",
    "dfref"
   ]
  },
  {
   "cell_type": "code",
   "execution_count": null,
   "metadata": {},
   "outputs": [],
   "source": [
    "with open(testpath, 'r') as f:\n",
    "    rd = f.read()\n",
    "obj = json.loads(rd)\n",
    "dftest = pd.json_normalize(obj)\n",
    "dftest"
   ]
  },
  {
   "cell_type": "code",
   "execution_count": 12,
   "metadata": {},
   "outputs": [],
   "source": [
    "primary_list=[\n",
    "    'clearance', \n",
    "    'corner', \n",
    "    'duel', \n",
    "    'free_kick', \n",
    "    'game_interruption', \n",
    "    'goal_kick', \n",
    "    'infraction', \n",
    "    'interception', \n",
    "    'offside', 'own_goal', \n",
    "    'pass', \n",
    "    'penalty', \n",
    "    'shot', \n",
    "    'shot_against', 'throw_in', 'touch'\n",
    "]"
   ]
  },
  {
   "cell_type": "code",
   "execution_count": 13,
   "metadata": {},
   "outputs": [],
   "source": [
    "secondary_list=[\n",
    "    'aerial_duel', \n",
    "    'assist', \n",
    "    'back_pass', \n",
    "    'ball_out', \n",
    "    'carry', \n",
    "    'conceded_goal', \n",
    "    'counterpressing_recovery', \n",
    "    'cross', \n",
    "    'cross_blocked', \n",
    "    'deep_completed_cross', \n",
    "    'deep_completion', \n",
    "    'defensive_duel', \n",
    "    'dribble', \n",
    "    'forward_pass', \n",
    "    'foul', \n",
    "    'foul_suffered', \n",
    "    'free_kick_cross', \n",
    "    'free_kick_shot', \n",
    "    'goal', \n",
    "    'ground_duel', \n",
    "    'hand_pass', \n",
    "    'head_pass', \n",
    "    'head_shot', \n",
    "    'key_pass', \n",
    "    'lateral_pass', \n",
    "    'long_pass', \n",
    "    'loss', \n",
    "    'offensive_duel', \n",
    "    'opportunity', \n",
    "    'pass_into_penalty_area', \n",
    "    'pass_to_final_third', \n",
    "    'penalty_conceded_goal', \n",
    "    'penalty_foul', \n",
    "    'penalty_goal', \n",
    "    'penalty_save', \n",
    "    'progressive_pass', \n",
    "    'progressive_run', 'recovery', 'red_card', 'save', 'save_with_reflex', 'short_or_medium_pass', 'shot_after_corner', \n",
    "    'shot_after_free_kick', 'shot_after_throw_in', 'shot_assist', 'shot_block', 'sliding_tackle', 'touch_in_box', 'yellow_card'\n",
    "]"
   ]
  },
  {
   "cell_type": "code",
   "execution_count": null,
   "metadata": {},
   "outputs": [],
   "source": [
    "dfref[['matchTimestamp','type.primary', 'type.secondary', 'player.name', 'matchPeriod']].iloc[:20]"
   ]
  },
  {
   "cell_type": "code",
   "execution_count": null,
   "metadata": {},
   "outputs": [],
   "source": [
    "dftest[['matchTimestamp','type.primary', 'type.secondary', 'player.name', 'matchPeriod']].iloc[980:995]"
   ]
  },
  {
   "cell_type": "code",
   "execution_count": null,
   "metadata": {},
   "outputs": [],
   "source": [
    "drefint=dfref[dfref['type.primary']=='interception']\n",
    "dtestint=dftest[dftest['type.primary']=='game_interruption']"
   ]
  },
  {
   "cell_type": "code",
   "execution_count": null,
   "metadata": {},
   "outputs": [],
   "source": [
    "drefint[['matchTimestamp','type.primary','type.secondary']].iloc[:20]"
   ]
  },
  {
   "cell_type": "code",
   "execution_count": null,
   "metadata": {},
   "outputs": [],
   "source": [
    "count_secondary(dfref, dftest)"
   ]
  },
  {
   "cell_type": "code",
   "execution_count": 14,
   "metadata": {},
   "outputs": [],
   "source": [
    "def count_word(lst, word):\n",
    "    return lst.count(word)\n",
    "\n",
    "\n",
    "def count_secondary(df, test):\n",
    "    for secondary in secondary_list:\n",
    "        c = df['type.secondary'].apply(lambda x:count_word(x,secondary)).sum()\n",
    "        a = test['type.secondary'].apply(lambda x:count_word(x,secondary)).sum()\n",
    "        print(secondary+': ')\n",
    "        print(c,a, sep=',')"
   ]
  },
  {
   "cell_type": "code",
   "execution_count": null,
   "metadata": {},
   "outputs": [],
   "source": [
    "dtestint[['matchTimestamp','type.primary','type.secondary']].iloc[-1]"
   ]
  },
  {
   "cell_type": "code",
   "execution_count": 15,
   "metadata": {},
   "outputs": [],
   "source": [
    "def count_primary(df, test):\n",
    "    for primary in primary_list:\n",
    "        c = df['type.primary'].str.contains(primary).sum()\n",
    "        a = test['type.primary'].str.contains(primary).sum()\n",
    "        print(primary+': ')\n",
    "        print(c,a, sep=',')\n",
    "\n"
   ]
  },
  {
   "cell_type": "code",
   "execution_count": 16,
   "metadata": {},
   "outputs": [
    {
     "name": "stdout",
     "output_type": "stream",
     "text": [
      "clearance: \n",
      "10,0\n",
      "corner: \n",
      "6,6\n",
      "duel: \n",
      "406,350\n",
      "free_kick: \n",
      "23,21\n",
      "game_interruption: \n",
      "100,94\n",
      "goal_kick: \n",
      "24,24\n",
      "infraction: \n",
      "20,18\n",
      "interception: \n",
      "74,141\n",
      "offside: \n",
      "3,3\n",
      "own_goal: \n",
      "0,0\n",
      "pass: \n",
      "705,753\n",
      "penalty: \n",
      "0,0\n",
      "shot: \n",
      "33,34\n",
      "shot_against: \n",
      "10,10\n",
      "throw_in: \n",
      "67,66\n",
      "touch: \n",
      "88,30\n"
     ]
    }
   ],
   "source": [
    "count_primary(dfref,dftest)"
   ]
  }
 ],
 "metadata": {
  "kernelspec": {
   "display_name": "Python 3",
   "language": "python",
   "name": "python3"
  },
  "language_info": {
   "codemirror_mode": {
    "name": "ipython",
    "version": 3
   },
   "file_extension": ".py",
   "mimetype": "text/x-python",
   "name": "python",
   "nbconvert_exporter": "python",
   "pygments_lexer": "ipython3",
   "version": "3.10.4"
  }
 },
 "nbformat": 4,
 "nbformat_minor": 2
}
