{
 "cells": [
  {
   "cell_type": "code",
   "execution_count": null,
   "metadata": {},
   "outputs": [],
   "source": [
    "import json\n",
    "import pandas as pd\n",
    "import cmath\n",
    "import xml.etree.ElementTree as et\n"
   ]
  },
  {
   "cell_type": "code",
   "execution_count": null,
   "metadata": {},
   "outputs": [],
   "source": [
    "df=pd.read_xml('data/instat.xml')\n",
    "df\n"
   ]
  },
  {
   "cell_type": "code",
   "execution_count": null,
   "metadata": {},
   "outputs": [],
   "source": [
    "def swap_columns(df, col1, col2):\n",
    "    col_list = list(df.columns)\n",
    "    x, y = col_list.index(col1), col_list.index(col2)\n",
    "    col_list[y], col_list[x] = col_list[x], col_list[y]\n",
    "    df = df[col_list]\n",
    "    return df"
   ]
  },
  {
   "cell_type": "code",
   "execution_count": null,
   "metadata": {},
   "outputs": [],
   "source": [
    "def getloginstat (df):\n",
    "    df[]"
   ]
  },
  {
   "cell_type": "code",
   "execution_count": null,
   "metadata": {},
   "outputs": [],
   "source": [
    "pd.set_option('display.max_columns', 5000)\n",
    "#pd.set_option('display.max_rows', None)"
   ]
  },
  {
   "cell_type": "code",
   "execution_count": null,
   "metadata": {},
   "outputs": [],
   "source": [
    "pd.reset_option('display.max_columns')\n",
    "pd.set_option('display.max_rows', None)"
   ]
  },
  {
   "cell_type": "code",
   "execution_count": null,
   "metadata": {},
   "outputs": [],
   "source": [
    "dfw2=dfw[['possession.team.name', 'type.secondary']]"
   ]
  },
  {
   "cell_type": "code",
   "execution_count": null,
   "metadata": {},
   "outputs": [],
   "source": [
    "dfw2.to_csv(\"possessionrecovery.csv\")"
   ]
  },
  {
   "cell_type": "code",
   "execution_count": null,
   "metadata": {},
   "outputs": [],
   "source": [
    "with open('data/wyscout.json', 'r') as f:\n",
    "    rd = f.read()\n",
    "obj = json.loads(rd)\n",
    "dfw = pd.json_normalize(obj)\n",
    "dfw"
   ]
  },
  {
   "cell_type": "code",
   "execution_count": null,
   "metadata": {},
   "outputs": [],
   "source": [
    "json_data = dfw.to_json(orient='records')\n",
    "file_path = 'test.json'\n",
    "\n",
    "# Save the JSON data to a file\n",
    "with open(file_path, 'w') as json_file:\n",
    "    json_file.write(json_data)"
   ]
  },
  {
   "cell_type": "code",
   "execution_count": null,
   "metadata": {},
   "outputs": [],
   "source": [
    "pos = dfw[['player.name', 'player.position']].to_csv('position.csv')\n"
   ]
  },
  {
   "cell_type": "code",
   "execution_count": null,
   "metadata": {},
   "outputs": [],
   "source": [
    "newdf = dfw.dropna(axis=1, how='all')\n",
    "analysis = newdf.drop(columns=['id', 'matchId', 'minute', 'second', 'videoTimestamp','relatedEventId', 'team.id', 'opponentTeam.id','opponentTeam.name', 'player.id', 'pass.recipient.id', 'possession.id', 'possession.eventsNumber', 'possession.eventIndex', 'possession.team.id', 'possession.team.name', 'possession.team.formation', 'groundDuel.opponent.id', 'infraction.redCard', 'infraction.opponent.id', 'infraction.opponent.position', 'shot.goalkeeper.id', 'aerialDuel.opponent.id', 'aerialDuel.opponent.position', 'aerialDuel.relatedDuelId' ], axis=1)\n",
    "analysis"
   ]
  },
  {
   "cell_type": "code",
   "execution_count": null,
   "metadata": {},
   "outputs": [],
   "source": [
    "act= dfw[['matchTimestamp','type.primary', 'type.secondary','team.name' , 'possession.team.name']]\n",
    "act.to_csv('passing_wyscout.csv', index=False)"
   ]
  },
  {
   "cell_type": "code",
   "execution_count": null,
   "metadata": {},
   "outputs": [],
   "source": [
    "yy=dfw[[\"matchTimestamp\",\"type.primary\"\t,\"type.secondary\", \"groundDuel.opponent.position\",\"infraction.type\", \"carry.progression\", \"shot.onTarget\", \"aerialDuel.opponent.position\" ]]\n",
    "yy.to_csv('infraction_wyscout.csv', index=False)"
   ]
  },
  {
   "cell_type": "code",
   "execution_count": null,
   "metadata": {},
   "outputs": [],
   "source": [
    "def tester(test):\n",
    "    test[0]=35"
   ]
  },
  {
   "cell_type": "code",
   "execution_count": null,
   "metadata": {},
   "outputs": [],
   "source": [
    "test=[1,3,5]"
   ]
  },
  {
   "cell_type": "code",
   "execution_count": null,
   "metadata": {},
   "outputs": [],
   "source": [
    "tester(test)\n",
    "test[0]"
   ]
  },
  {
   "cell_type": "code",
   "execution_count": null,
   "metadata": {},
   "outputs": [],
   "source": [
    "test[0]"
   ]
  },
  {
   "cell_type": "code",
   "execution_count": null,
   "metadata": {},
   "outputs": [],
   "source": [
    "#get the column\n",
    "name = 'videoTimestamp'\n",
    "dfw[name]"
   ]
  },
  {
   "cell_type": "code",
   "execution_count": null,
   "metadata": {},
   "outputs": [],
   "source": [
    "df['id']"
   ]
  },
  {
   "cell_type": "code",
   "execution_count": null,
   "metadata": {},
   "outputs": [],
   "source": [
    "xx=df[[\"second\",\"action_name\",\t\"player_name\",\"team_name\",  \"opponent_name\", \"possession_name\", \"possession_team_name\"]]\n",
    "xx.to_csv(\"duelinstat.csv\", index=False)"
   ]
  },
  {
   "cell_type": "code",
   "execution_count": null,
   "metadata": {},
   "outputs": [],
   "source": [
    "df['pos_y'].dropna()"
   ]
  },
  {
   "cell_type": "code",
   "execution_count": null,
   "metadata": {},
   "outputs": [],
   "source": [
    "newdf2 = df.dropna(axis=1, how='all')\n",
    "analysis2 = newdf2.drop(columns=['dl', 'id', 'uid', 'number', 'action_id', 'player_id', 'team_id', 'standart_id', 'ts', 'position_id', 'position_name', 'opponent_id', 'opponent_name','opponent_team_id','opponent_team_name','opponent_position_id','opponent_position_name', 'zone_id', 'zone_dest_id', 'possession_id', 'possession_team_id', 'possession_team_id', 'attack_status_id', 'attack_type_id', 'attack_team_id', 'body_id' ])\n",
    "analysis2=swap_columns(analysis2, 'second', 'action_name')\n",
    "analysis2"
   ]
  },
  {
   "cell_type": "code",
   "execution_count": null,
   "metadata": {},
   "outputs": [],
   "source": []
  },
  {
   "cell_type": "code",
   "execution_count": null,
   "metadata": {},
   "outputs": [],
   "source": [
    "#get the column\n",
    "name = 'action_name'\n",
    "df[name].drop_duplicates().tolist()"
   ]
  },
  {
   "cell_type": "code",
   "execution_count": null,
   "metadata": {},
   "outputs": [],
   "source": [
    "#write csv\n",
    "df.to_csv('instat.csv', index=False)"
   ]
  },
  {
   "cell_type": "code",
   "execution_count": null,
   "metadata": {},
   "outputs": [],
   "source": [
    "#average time interval for an event (instat)\n",
    "\n",
    "mask = df['second'] == 0.0\n",
    "time=df[~mask]\n",
    "time = time['second']\n",
    "time = time.dropna()\n",
    "difference = 0.0\n",
    "for i in range (len(time)-1): \n",
    "    difference += time.iloc[i+1] - time.iloc[i]\n",
    "difference = difference/(len(time)-1)\n",
    "print(difference)"
   ]
  },
  {
   "cell_type": "code",
   "execution_count": null,
   "metadata": {},
   "outputs": [],
   "source": [
    "print(df.columns.tolist())\n",
    "li=df.columns.tolist()\n",
    "for el in li:\n",
    "    attr=el\n",
    "    df2=df[attr]\n",
    "    df2=df2.drop_duplicates()\n",
    "    print(df2)"
   ]
  },
  {
   "cell_type": "code",
   "execution_count": null,
   "metadata": {},
   "outputs": [],
   "source": []
  }
 ],
 "metadata": {
  "kernelspec": {
   "display_name": "Python 3",
   "language": "python",
   "name": "python3"
  },
  "language_info": {
   "codemirror_mode": {
    "name": "ipython",
    "version": 3
   },
   "file_extension": ".py",
   "mimetype": "text/x-python",
   "name": "python",
   "nbconvert_exporter": "python",
   "pygments_lexer": "ipython3",
   "version": "3.10.4"
  }
 },
 "nbformat": 4,
 "nbformat_minor": 2
}
