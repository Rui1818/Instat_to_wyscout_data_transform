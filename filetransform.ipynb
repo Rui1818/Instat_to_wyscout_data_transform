{
 "cells": [
  {
   "cell_type": "code",
   "execution_count": 1,
   "metadata": {},
   "outputs": [],
   "source": [
    "from final_transform import *\n",
    "import pandas as pd\n",
    "import os\n",
    "import xml.etree.ElementTree as et"
   ]
  },
  {
   "cell_type": "code",
   "execution_count": 2,
   "metadata": {},
   "outputs": [],
   "source": [
    "datapath='data/National_Men_2022-03-29_UEFA U21 Championship Qualification_Netherlands U21_vs_Switzerland U21_1904894_2022-03-29_Netherlands U21_vs_Switzerland U21_1904894_rawdata.xml'"
   ]
  },
  {
   "cell_type": "code",
   "execution_count": null,
   "metadata": {},
   "outputs": [],
   "source": [
    "final_transform(datapath, 'test')"
   ]
  },
  {
   "cell_type": "code",
   "execution_count": null,
   "metadata": {},
   "outputs": [],
   "source": [
    "df= pd.read_xml(datapath)\n",
    "df[['action_name', 'second', 'player_name']].iloc[50:100]"
   ]
  },
  {
   "cell_type": "code",
   "execution_count": 4,
   "metadata": {},
   "outputs": [
    {
     "name": "stdout",
     "output_type": "stream",
     "text": [
      "data/National_Men_2021-09-03_UEFA U21 Championship Qualification_Switzerland U21_vs_Gibraltar U21_1904973_2021-09-03_Switzerland U21_vs_Gibraltar U21_1904973_rawdata.xml\n",
      "data/National_Men_2021-10-07_UEFA U17 Championship Qualification_Finland U17_vs_Switzerland U17_2100266_2021-10-07_Finland U17_vs_Switzerland U17_2100266_rawdata.xml\n",
      "data/National_Men_2021-10-12_UEFA U21 Championship Qualification_Bulgaria U21_vs_Switzerland U21_1904806_2021-10-12_Bulgaria U21_vs_Switzerland U21_1904806_rawdata.xml\n",
      "data/National_Men_2021-10-13_UEFA U17 Championship Qualification_Switzerland U17_vs_Bosnia-Herzegovina U17_2100265_2021-10-13_Switzerland U17_vs_Bosnia-Herzegovina U17_2100265_rawdata.xml\n",
      "data/National_Men_2021-11-12_UEFA U21 Championship Qualification_Switzerland U21_vs_Moldova U21_1904831_2021-11-12_Switzerland U21_vs_Moldova U21_1904831_rawdata.xml\n",
      "data/National_Men_2022-02-15_Youth Club Friendlies_Spain U16_vs_Switzerland U16_2223595_2022-02-15_Spain U16_vs_Switzerland U16_2223595_rawdata.xml\n",
      "data/National_Men_2022-02-18_World. Youth Friendlies_Switzerland U17_vs_Hungary U17_2225666_2022-02-18_Switzerland U17_vs_Hungary U17_2225666_rawdata.xml\n",
      "data/National_Men_2022-03-23_UEFA U17 Championship Qualification_Switzerland U17_vs_Latvia U17_2176356_2022-03-23_Switzerland U17_vs_Latvia U17_2176356_rawdata.xml\n",
      "data/National_Men_2022-03-23_Международные. Товарищеские матчи_Switzerland U18_vs_Poland U18_2243862_2022-03-23_Switzerland U18_vs_Poland U18_2243862_rawdata.xml\n",
      "data/National_Men_2022-03-29_UEFA U21 Championship Qualification_Netherlands U21_vs_Switzerland U21_1904894_2022-03-29_Netherlands U21_vs_Switzerland U21_1904894_rawdata.xml\n",
      "data/National_Men_2022-04-26_Under 18 Friendlies_Switzerland U18_vs_Georgia U18_2262744_2022-04-26_Switzerland U18_vs_Georgia U18_2262744_rawdata.xml\n",
      "data/National_Men_2022-05-16_Youth Club Friendlies_Sweden U16_vs_Switzerland U16_2267591_2022-05-16_Sweden U16_vs_Switzerland U16_2267591_rawdata.xml\n",
      "data/National_Men_2022-08-23_Международные. Товарищеские матчи_Italy U17_vs_Switzerland U17_2374658_2022-08-23_Italy U17_vs_Switzerland U17_2374658_rawdata.xml\n",
      "data/National_Men_2022-09-21_Europe. UEFA U19 Championship Qualification_Switzerland U19_vs_Greece U19_2385375_2022-09-21_Switzerland U19_vs_Greece U19_2385375_rawdata.xml\n",
      "data/National_Men_2022-09-24_Europe. UEFA U19 Championship Qualification_Czechia U19_vs_Switzerland U19_2385376_2022-09-24_Czechia U19_vs_Switzerland U19_2385376_rawdata.xml\n",
      "data/National_Men_2022-10-20_Международные. Товарищеские матчи_Switzerland U19_vs_Germany U19_2385378_2022-10-20_Switzerland U19_vs_Germany U19_2385378_rawdata.xml\n",
      "data/National_Men_2023-03-28_Under 21 Friendlies_Denmark U21_vs_Switzerland U20_2569491_2023-03-28_Denmark U21_vs_Switzerland U20_2569491_rawdata.xml\n",
      "data/National_Men_2023-05-18_Europe. UEFA U17 Championship_Switzerland U17_vs_Netherlands U17_2580516_2023-05-18_Switzerland U17_vs_Netherlands U17_2580516_rawdata.xml\n",
      "data/National_Men_2023-05-30_Europe. UEFA U17 Championship_England U17_vs_Switzerland U17_2581851_2023-05-30_England U17_vs_Switzerland U17_2581851_rawdata.xml\n",
      "data/U18_2021-09-26_Switzerland. U18 Group B_Team AFF-FFV Fribourg U18_vs_Rapperswil U17_2115373_2021-09-26_Team AFF-FFV Fribourg U18_vs_Rapperswil U17_2115373_rawdata.xml\n",
      "data/U19_2021-10-20_Europe. UEFA Youth League_Young Boys U19_vs_Villarreal U19 Juvenil A_2088682_2021-10-20_Young Boys U19_vs_Villarreal U19 Juvenil A_2088682_rawdata.xml\n",
      "data/U19_2021-11-23_Europe. UEFA Youth League_Young Boys U19_vs_Atalanta U19_2088687_2021-11-23_Young Boys U19_vs_Atalanta U19_2088687_rawdata.xml\n",
      "data/U19_2021-12-08_Europe. UEFA Youth League_Manchester United U19_vs_Young Boys U19_2088688_2021-12-08_Manchester United U19_vs_Young Boys U19_2088688_rawdata.xml\n",
      "data/U19_2023-02-07_Europe. UEFA Youth League_Young Boys U19_vs_Red Bull Salzburg U19_2517058_2023-02-07_Young Boys U19_vs_Red Bull Salzburg U19_2517058_rawdata.xml\n",
      "data/U21_2021-08-07_Switzerland. YAPEAL Promotion League_Black Stars_vs_FC Basel 1893 II_2013716_2021-08-07_Black Stars_vs_FC Basel 1893 II_2013716_rawdata.xml\n",
      "data/U21_2021-08-07_Switzerland. YAPEAL Promotion League_Bruhl_vs_Zurich II_2013715_2021-08-07_Bruhl_vs_Zurich II_2013715_rawdata.xml\n",
      "data/U21_2021-08-07_Switzerland. YAPEAL Promotion League_Cham_vs_FC Sion II_2018536_2021-08-07_Cham_vs_FC Sion II_2018536_rawdata.xml\n",
      "data/U21_2021-08-11_Switzerland. YAPEAL Promotion League_Zurich II_vs_Freienbach_2024148_2021-08-11_Zurich II_vs_Freienbach_2024148_rawdata.xml\n",
      "data/U21_2021-08-13_Switzerland. YAPEAL Promotion League_Bellinzona_vs_BSC Young Boys II_2026302_2021-08-13_Bellinzona_vs_BSC Young Boys II_2026302_rawdata.xml\n",
      "data/U21_2021-08-18_Switzerland. YAPEAL Promotion League_FC Basel 1893 II_vs_Bavois_2013721_2021-08-18_FC Basel 1893 II_vs_Bavois_2013721_rawdata.xml\n",
      "data/U21_2021-08-21_Switzerland. YAPEAL Promotion League_Stade Nyonnais_vs_FC Basel 1893 II_2013734_2021-08-21_Stade Nyonnais_vs_FC Basel 1893 II_2013734_rawdata.xml\n",
      "data/U21_2021-08-21_Швейцария. 1. Лига_Thalwil_vs_FC Winterthur II_2044193_2021-08-21_Thalwil_vs_FC Winterthur II_2044193_rawdata.xml\n",
      "data/U21_2021-08-22_Switzerland. YAPEAL Promotion League_BSC Young Boys II_vs_Chiasso_2013732_2021-08-22_BSC Young Boys II_vs_Chiasso_2013732_rawdata.xml\n",
      "data/U21_2021-08-28_Швейцария. 1. Лига_FC St. Gallen 1879 II_vs_FC Baden 1897_2016562_2021-08-28_FC St. Gallen 1879 II_vs_FC Baden 1897_2016562_rawdata.xml\n",
      "data/U21_2021-09-04_Switzerland. YAPEAL Promotion League_Bavois_vs_Zurich II_2013747_2021-09-04_Bavois_vs_Zurich II_2013747_rawdata.xml\n",
      "data/U21_2021-11-28_Switzerland. YAPEAL Promotion League_Bavois_vs_FC Basel 1893 II_2013844_2021-11-28_Bavois_vs_FC Basel 1893 II_2013844_rawdata.xml\n"
     ]
    }
   ],
   "source": [
    "path = 'data/'\n",
    "action_list = []\n",
    "for filename in os.listdir(path):\n",
    "    if filename.endswith('.xml'):  # Check if the file is an XML file\n",
    "        file_path = os.path.join(path, filename)\n",
    "        print(file_path)\n",
    "        new_path=file_path[:-4]+'_transformed'\n",
    "        final_transform(file_path, new_path)\n",
    "        \n"
   ]
  }
 ],
 "metadata": {
  "kernelspec": {
   "display_name": "Python 3",
   "language": "python",
   "name": "python3"
  },
  "language_info": {
   "codemirror_mode": {
    "name": "ipython",
    "version": 3
   },
   "file_extension": ".py",
   "mimetype": "text/x-python",
   "name": "python",
   "nbconvert_exporter": "python",
   "pygments_lexer": "ipython3",
   "version": "3.10.4"
  }
 },
 "nbformat": 4,
 "nbformat_minor": 2
}
