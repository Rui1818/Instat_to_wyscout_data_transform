{
 "cells": [
  {
   "cell_type": "code",
   "execution_count": 1,
   "metadata": {},
   "outputs": [],
   "source": [
    "from instat_to_wyscout_pandas import *\n",
    "from reconstruct import *\n",
    "import json"
   ]
  },
  {
   "cell_type": "code",
   "execution_count": null,
   "metadata": {},
   "outputs": [],
   "source": [
    "iter_list = [\n",
    "    \"type\",\n",
    "    \"location\",\n",
    "    \"team\", \n",
    "    \"opponentTeam\",\n",
    "    \"player\",\n",
    "    \"pass\",\n",
    "    \"shot\",\n",
    "    \"groundDuel\",\n",
    "    \"aerialDuel\",\n",
    "    \"infraction\",\n",
    "    \"carry\",\n",
    "    \"possession\"\n",
    "]"
   ]
  },
  {
   "cell_type": "code",
   "execution_count": null,
   "metadata": {},
   "outputs": [],
   "source": [
    "path = \"data/InStat_AXA_Super_2023-06-02_Switzerland. AXA Women's Super League_Servette Chenois_vs_Zurich_2582307_2023-06-02_Servette Chenois_vs_Zurich_2582307_rawdata - Kopie.xml\""
   ]
  },
  {
   "cell_type": "code",
   "execution_count": null,
   "metadata": {},
   "outputs": [],
   "source": [
    "datafraem=pandas_transform(path)"
   ]
  },
  {
   "cell_type": "code",
   "execution_count": null,
   "metadata": {},
   "outputs": [],
   "source": [
    "def row_transform(row):\n",
    "    for category in iter_list:\n",
    "        row[category]=reconstruct_cases(row,category)\n",
    "    return row"
   ]
  },
  {
   "cell_type": "code",
   "execution_count": null,
   "metadata": {},
   "outputs": [],
   "source": [
    "df2=datafraem.apply(row_transform, axis=1)"
   ]
  },
  {
   "cell_type": "code",
   "execution_count": null,
   "metadata": {},
   "outputs": [],
   "source": [
    "pd.set_option('display.max_columns', 5000)"
   ]
  },
  {
   "cell_type": "code",
   "execution_count": null,
   "metadata": {},
   "outputs": [],
   "source": [
    "dropping = ['type.', 'groundDuel.', 'aerialDuel.', 'shot.', 'location.', 'pass.', 'infraction.', 'player.', 'team.', 'possession.', 'opponentTeam.', 'carry.']\n",
    "columns_to_drop = [col for col in df2.columns if any(sub in col for sub in dropping)]\n",
    "df = df2.drop(columns=columns_to_drop)"
   ]
  },
  {
   "cell_type": "code",
   "execution_count": null,
   "metadata": {},
   "outputs": [],
   "source": [
    "order= ['id','matchId',\t'matchPeriod','minute',\t'second','matchTimestamp','videoTimestamp','relatedEventId','type',\t'location',\t'team','opponentTeam','player', 'pass',\t'shot',\t'groundDuel', 'aerialDuel', 'infraction', 'carry', 'possession']"
   ]
  },
  {
   "cell_type": "code",
   "execution_count": null,
   "metadata": {},
   "outputs": [],
   "source": [
    "df = df[order]"
   ]
  },
  {
   "cell_type": "code",
   "execution_count": 65,
   "metadata": {},
   "outputs": [],
   "source": [
    "jsondf=df.to_json(orient='records')\n",
    "\n",
    "with open(\"jsooon.json\", 'w') as json_file:\n",
    "    json_file.write(jsondf)"
   ]
  },
  {
   "cell_type": "code",
   "execution_count": 66,
   "metadata": {},
   "outputs": [],
   "source": [
    "testjson= df.to_json(orient='records')\n",
    "\n",
    "begin= '{\"meta\":[],\"events\":'\n",
    "end='}'\n",
    "finaljson = begin+testjson+end"
   ]
  },
  {
   "cell_type": "code",
   "execution_count": 67,
   "metadata": {},
   "outputs": [],
   "source": [
    "file_path = 'output1.json'\n",
    "\n",
    "# Save the JSON data to a file\n",
    "with open(file_path, 'w') as json_file:\n",
    "    json_file.write(finaljson)"
   ]
  },
  {
   "cell_type": "code",
   "execution_count": 62,
   "metadata": {},
   "outputs": [],
   "source": [
    "newdata= {\n",
    "    'meta': [[]],\n",
    "    'events': str(jsondf)\n",
    "}"
   ]
  },
  {
   "cell_type": "code",
   "execution_count": null,
   "metadata": {},
   "outputs": [],
   "source": []
  },
  {
   "cell_type": "code",
   "execution_count": 64,
   "metadata": {},
   "outputs": [],
   "source": [
    "y=pd.DataFrame(newdata)\n",
    "json_data = y.to_json(orient='records')\n",
    "json_data= json_data.replace('\\\\', '')\n",
    "file_path = 'output99.json'\n",
    "\n",
    "# Save the JSON data to a file\n",
    "with open(file_path, 'w') as json_file:\n",
    "    json_file.write(json_data)"
   ]
  }
 ],
 "metadata": {
  "kernelspec": {
   "display_name": "Python 3",
   "language": "python",
   "name": "python3"
  },
  "language_info": {
   "codemirror_mode": {
    "name": "ipython",
    "version": 3
   },
   "file_extension": ".py",
   "mimetype": "text/x-python",
   "name": "python",
   "nbconvert_exporter": "python",
   "pygments_lexer": "ipython3",
   "version": "3.10.4"
  }
 },
 "nbformat": 4,
 "nbformat_minor": 2
}
