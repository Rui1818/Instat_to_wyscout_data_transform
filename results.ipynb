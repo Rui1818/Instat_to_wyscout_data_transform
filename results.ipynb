{
 "cells": [
  {
   "cell_type": "code",
   "execution_count": 21,
   "metadata": {},
   "outputs": [],
   "source": [
    "from final_transform import *\n",
    "from instat_to_wyscout_pandas import *\n",
    "import numpy\n",
    "import json\n",
    "import os"
   ]
  },
  {
   "cell_type": "code",
   "execution_count": 22,
   "metadata": {},
   "outputs": [],
   "source": [
    "primary_list=[\n",
    "    'clearance', \n",
    "    'corner', \n",
    "    'duel', \n",
    "    'free_kick', \n",
    "    'game_interruption', \n",
    "    'goal_kick', \n",
    "    'infraction', \n",
    "    'interception', \n",
    "    'offside', 'own_goal', \n",
    "    'pass', \n",
    "    'penalty', \n",
    "    'shot', \n",
    "    'shot_against', 'throw_in', 'touch'\n",
    "]"
   ]
  },
  {
   "cell_type": "code",
   "execution_count": 23,
   "metadata": {},
   "outputs": [],
   "source": [
    "secondary_list=[\n",
    "    'aerial_duel', \n",
    "    'assist', \n",
    "    'back_pass', \n",
    "    'ball_out', \n",
    "    'carry', \n",
    "    'conceded_goal', \n",
    "    'counterpressing_recovery', \n",
    "    'cross', \n",
    "    'cross_blocked', \n",
    "    'deep_completed_cross', \n",
    "    'deep_completion', \n",
    "    'defensive_duel', \n",
    "    'dribble', \n",
    "    'forward_pass', \n",
    "    'foul', \n",
    "    'foul_suffered', \n",
    "    'free_kick_cross', \n",
    "    'free_kick_shot', \n",
    "    'goal', \n",
    "    'ground_duel', \n",
    "    'hand_pass', \n",
    "    'head_pass', \n",
    "    'head_shot', \n",
    "    'key_pass', \n",
    "    'lateral_pass', \n",
    "    'long_pass', \n",
    "    'loss', \n",
    "    'offensive_duel', \n",
    "    'opportunity', \n",
    "    'pass_into_penalty_area', \n",
    "    'pass_to_final_third', \n",
    "    'penalty_conceded_goal', \n",
    "    'penalty_foul', \n",
    "    'penalty_goal', \n",
    "    'penalty_save', \n",
    "    'progressive_pass', \n",
    "    'progressive_run', 'recovery', 'red_card', 'save', 'save_with_reflex', 'short_or_medium_pass', 'shot_after_corner', \n",
    "    'shot_after_free_kick', 'shot_after_throw_in', 'shot_assist', 'shot_block', 'sliding_tackle', 'touch_in_box', 'yellow_card'\n",
    "]"
   ]
  },
  {
   "cell_type": "code",
   "execution_count": 24,
   "metadata": {},
   "outputs": [],
   "source": [
    "def count_word(lst, word):\n",
    "    return lst.count(word)\n",
    "\n",
    "\n",
    "def count_secondary(df, test, dicref, dictest, dicdiff):\n",
    "    for secondary in secondary_list:\n",
    "        c = df['type.secondary'].apply(lambda x:count_word(x,secondary)).sum()\n",
    "        a = test['type.secondary'].apply(lambda x:count_word(x,secondary)).sum()\n",
    "        diff=abs(c-a)\n",
    "        diffperc=diff/c\n",
    "        dicref[secondary]=c\n",
    "        dictest[secondary]=a\n",
    "        dicdiff[secondary] = (diff,diffperc)\n",
    "        "
   ]
  },
  {
   "cell_type": "code",
   "execution_count": 25,
   "metadata": {},
   "outputs": [],
   "source": [
    "def count_primary(df, test, dicref, dictest, dicdiff):\n",
    "    for primary in primary_list:\n",
    "        c = df['type.primary'].str.contains(primary).sum()\n",
    "        a = test['type.primary'].str.contains(primary).sum()\n",
    "        diff=abs(c-a)\n",
    "        diffperc=diff/c if(c!=0) else 0\n",
    "        dicref[primary]=c\n",
    "        dictest[primary]=a\n",
    "        dicdiff[primary] = (diff,diffperc)"
   ]
  },
  {
   "cell_type": "code",
   "execution_count": 26,
   "metadata": {},
   "outputs": [
    {
     "name": "stdout",
     "output_type": "stream",
     "text": [
      "data/reference/020623_servette_zueri.xml\n",
      "data/reference/020623_servette_zueri.json\n",
      "data/reference/060523_aarau_servette.xml\n",
      "data/reference/060523_aarau_servette.json\n",
      "data/reference/060523_basel_gc.xml\n",
      "data/reference/060523_basel_gc.json\n",
      "data/reference/060523_yb_stg.xml\n",
      "data/reference/060523_yb_stg.json\n",
      "data/reference/130523_gc_basel.xml\n",
      "data/reference/130523_gc_basel.json\n",
      "data/reference/130523_servette_aarau.xml\n",
      "data/reference/130523_servette_aarau.json\n",
      "data/reference/130523_stg_yb.xml\n",
      "data/reference/130523_stg_yb.json\n",
      "data/reference/130523_zueri_luzern.xml\n",
      "data/reference/130523_zueri_luzern.json\n",
      "data/reference/150423_aarau_zueri.xml\n",
      "data/reference/150423_aarau_zueri.json\n",
      "data/reference/150423_stg_basel.xml\n",
      "data/reference/150423_stg_basel.json\n",
      "data/reference/150423_yb_servette.xml\n",
      "data/reference/150423_yb_servette.json\n",
      "data/reference/150423_yverdon_rappi.xml\n",
      "data/reference/150423_yverdon_rappi.json\n",
      "data/reference/190423_luzern_aarau.xml\n",
      "data/reference/190423_luzern_aarau.json\n",
      "data/reference/200523_aarau_yb.xml\n",
      "data/reference/200523_aarau_yb.json\n",
      "data/reference/200523_gc_zueri.xml\n",
      "data/reference/200523_gc_zueri.json\n",
      "data/reference/200523_stg_servette.xml\n",
      "data/reference/200523_stg_servette.json\n",
      "data/reference/220423_basel_luzern.xml\n",
      "data/reference/220423_basel_luzern.json\n",
      "data/reference/220423_gc_yb.xml\n",
      "data/reference/220423_gc_yb.json\n",
      "data/reference/220423_rappi_stg.xml\n",
      "data/reference/220423_rappi_stg.json\n",
      "data/reference/220423_servette_aarau.xml\n",
      "data/reference/220423_servette_aarau.json\n",
      "data/reference/220423_zueri_yverdon.xml\n",
      "data/reference/220423_zueri_yverdon.json\n"
     ]
    },
    {
     "ename": "IndexError",
     "evalue": "list index out of range",
     "output_type": "error",
     "traceback": [
      "\u001b[1;31m---------------------------------------------------------------------------\u001b[0m",
      "\u001b[1;31mIndexError\u001b[0m                                Traceback (most recent call last)",
      "Cell \u001b[1;32mIn [26], line 20\u001b[0m\n\u001b[0;32m     18\u001b[0m obj \u001b[38;5;241m=\u001b[39m json\u001b[38;5;241m.\u001b[39mloads(rd)\n\u001b[0;32m     19\u001b[0m dfref \u001b[38;5;241m=\u001b[39m pd\u001b[38;5;241m.\u001b[39mjson_normalize(obj)\n\u001b[1;32m---> 20\u001b[0m dftest\u001b[38;5;241m=\u001b[39mpandas_transform(file_path)\n\u001b[0;32m     21\u001b[0m count_primary(dfref, dftest, dicref, dictest, dicdiff)\n\u001b[0;32m     22\u001b[0m dicactions\u001b[38;5;241m+\u001b[39m\u001b[38;5;241m=\u001b[39m(dfref\u001b[38;5;241m.\u001b[39mshape[\u001b[38;5;241m0\u001b[39m],dftest\u001b[38;5;241m.\u001b[39mshape[\u001b[38;5;241m0\u001b[39m])\n",
      "File \u001b[1;32mc:\\Users\\Rui\\BA\\Instat_toWyscout_transform\\instat_to_wyscout_pandas.py:326\u001b[0m, in \u001b[0;36mpandas_transform\u001b[1;34m(path)\u001b[0m\n\u001b[0;32m    324\u001b[0m mask \u001b[38;5;241m=\u001b[39m \u001b[38;5;241m~\u001b[39minstatdf[\u001b[38;5;124m'\u001b[39m\u001b[38;5;124maction_name\u001b[39m\u001b[38;5;124m'\u001b[39m]\u001b[38;5;241m.\u001b[39misin(todrop)\n\u001b[0;32m    325\u001b[0m instatdf \u001b[38;5;241m=\u001b[39m instatdf[mask]\n\u001b[1;32m--> 326\u001b[0m teamA,teamB\u001b[38;5;241m=\u001b[39m\u001b[43mgetformations\u001b[49m\u001b[43m(\u001b[49m\u001b[43minstatdf\u001b[49m\u001b[43m)\u001b[49m\n\u001b[0;32m    328\u001b[0m instatdf\u001b[38;5;241m=\u001b[39minstatdf\u001b[38;5;241m.\u001b[39mreset_index()\n\u001b[0;32m    330\u001b[0m mask \u001b[38;5;241m=\u001b[39m ((instatdf[\u001b[38;5;124m'\u001b[39m\u001b[38;5;124msecond\u001b[39m\u001b[38;5;124m'\u001b[39m]\u001b[38;5;241m==\u001b[39m\u001b[38;5;241m0.00\u001b[39m) \u001b[38;5;241m&\u001b[39m (instatdf[\u001b[38;5;124m'\u001b[39m\u001b[38;5;124maction_name\u001b[39m\u001b[38;5;124m'\u001b[39m]\u001b[38;5;241m!=\u001b[39m\u001b[38;5;124m'\u001b[39m\u001b[38;5;124mAttacking pass accurate\u001b[39m\u001b[38;5;124m'\u001b[39m)\u001b[38;5;241m&\u001b[39m(instatdf[\u001b[38;5;124m'\u001b[39m\u001b[38;5;124maction_name\u001b[39m\u001b[38;5;124m'\u001b[39m]\u001b[38;5;241m!=\u001b[39m\u001b[38;5;124m'\u001b[39m\u001b[38;5;124mNon attacking pass inaccurate\u001b[39m\u001b[38;5;124m'\u001b[39m)\u001b[38;5;241m&\u001b[39m\n\u001b[0;32m    331\u001b[0m         (instatdf[\u001b[38;5;124m'\u001b[39m\u001b[38;5;124maction_name\u001b[39m\u001b[38;5;124m'\u001b[39m]\u001b[38;5;241m!=\u001b[39m\u001b[38;5;124m'\u001b[39m\u001b[38;5;124mAttacking pass inaccurate\u001b[39m\u001b[38;5;124m'\u001b[39m)\u001b[38;5;241m&\u001b[39m(instatdf[\u001b[38;5;124m'\u001b[39m\u001b[38;5;124maction_name\u001b[39m\u001b[38;5;124m'\u001b[39m]\u001b[38;5;241m!=\u001b[39m\u001b[38;5;124m'\u001b[39m\u001b[38;5;124mNon attacking pass accurate\u001b[39m\u001b[38;5;124m'\u001b[39m)\u001b[38;5;241m&\u001b[39m(instatdf\u001b[38;5;241m.\u001b[39mindex\u001b[38;5;241m<\u001b[39m\u001b[38;5;241m200\u001b[39m))\n",
      "File \u001b[1;32mc:\\Users\\Rui\\BA\\Instat_toWyscout_transform\\transformations.py:318\u001b[0m, in \u001b[0;36mgetformations\u001b[1;34m(dataframe)\u001b[0m\n\u001b[0;32m    315\u001b[0m         team\u001b[38;5;241m+\u001b[39m\u001b[38;5;241m=\u001b[39m[teams]\n\u001b[0;32m    317\u001b[0m team1 \u001b[38;5;241m=\u001b[39m [team[\u001b[38;5;241m0\u001b[39m], adjustformation(\u001b[38;5;28mlist\u001b[39m[\u001b[38;5;241m0\u001b[39m])]\n\u001b[1;32m--> 318\u001b[0m team2 \u001b[38;5;241m=\u001b[39m [\u001b[43mteam\u001b[49m\u001b[43m[\u001b[49m\u001b[38;5;241;43m1\u001b[39;49m\u001b[43m]\u001b[49m, adjustformation(\u001b[38;5;28mlist\u001b[39m[\u001b[38;5;241m1\u001b[39m])]\n\u001b[0;32m    320\u001b[0m \u001b[38;5;28;01mreturn\u001b[39;00m team1, team2\n",
      "\u001b[1;31mIndexError\u001b[0m: list index out of range"
     ]
    }
   ],
   "source": [
    "path = 'data/reference/'\n",
    "action_list = []\n",
    "count = 0\n",
    "average = 0.0\n",
    "dicref={}\n",
    "dictest={}\n",
    "dicdiff={}\n",
    "dicactions=[]\n",
    "for filename in os.listdir(path):\n",
    "    if filename.endswith('.xml'):  # Check if the file is an XML file\n",
    "        file_path = os.path.join(path, filename)\n",
    "        print(file_path)\n",
    "        warnings.filterwarnings('ignore')\n",
    "        refpath=file_path[:-4]+'.json'\n",
    "        print(refpath)\n",
    "        with open(refpath, 'r') as f:\n",
    "            rd = f.read()\n",
    "        obj = json.loads(rd)\n",
    "        dfref = pd.json_normalize(obj)\n",
    "        dftest=pandas_transform(file_path)\n",
    "        count_primary(dfref, dftest, dicref, dictest, dicdiff)\n",
    "        dicactions+=(dfref.shape[0],dftest.shape[0])\n",
    "        \n",
    "\n",
    "        \n",
    "\n",
    "        "
   ]
  },
  {
   "cell_type": "code",
   "execution_count": 27,
   "metadata": {},
   "outputs": [
    {
     "data": {
      "text/plain": [
       "18"
      ]
     },
     "execution_count": 27,
     "metadata": {},
     "output_type": "execute_result"
    }
   ],
   "source": [
    "dicref['clearance']"
   ]
  },
  {
   "cell_type": "code",
   "execution_count": 19,
   "metadata": {},
   "outputs": [
    {
     "data": {
      "text/plain": [
       "15.0"
      ]
     },
     "execution_count": 19,
     "metadata": {},
     "output_type": "execute_result"
    }
   ],
   "source": [
    "np.std(dicactions)"
   ]
  },
  {
   "cell_type": "code",
   "execution_count": 28,
   "metadata": {},
   "outputs": [
    {
     "data": {
      "text/plain": [
       "[1570,\n",
       " 1540,\n",
       " 1862,\n",
       " 1630,\n",
       " 1694,\n",
       " 1553,\n",
       " 1835,\n",
       " 1757,\n",
       " 1831,\n",
       " 1691,\n",
       " 1607,\n",
       " 1471,\n",
       " 1817,\n",
       " 1690,\n",
       " 1779,\n",
       " 1698,\n",
       " 1915,\n",
       " 1707,\n",
       " 1984,\n",
       " 1765,\n",
       " 1778,\n",
       " 1650,\n",
       " 1788,\n",
       " 1525,\n",
       " 1799,\n",
       " 1787,\n",
       " 1974,\n",
       " 1794,\n",
       " 1655,\n",
       " 1606,\n",
       " 1673,\n",
       " 1631,\n",
       " 1818,\n",
       " 1668,\n",
       " 1752,\n",
       " 1567,\n",
       " 1856,\n",
       " 1766,\n",
       " 1704,\n",
       " 1654]"
      ]
     },
     "execution_count": 28,
     "metadata": {},
     "output_type": "execute_result"
    }
   ],
   "source": [
    "dicactions"
   ]
  },
  {
   "cell_type": "code",
   "execution_count": null,
   "metadata": {},
   "outputs": [],
   "source": []
  },
  {
   "cell_type": "code",
   "execution_count": null,
   "metadata": {},
   "outputs": [],
   "source": []
  },
  {
   "cell_type": "code",
   "execution_count": null,
   "metadata": {},
   "outputs": [],
   "source": []
  },
  {
   "cell_type": "code",
   "execution_count": null,
   "metadata": {},
   "outputs": [],
   "source": []
  },
  {
   "cell_type": "code",
   "execution_count": null,
   "metadata": {},
   "outputs": [],
   "source": []
  }
 ],
 "metadata": {
  "kernelspec": {
   "display_name": "Python 3",
   "language": "python",
   "name": "python3"
  },
  "language_info": {
   "codemirror_mode": {
    "name": "ipython",
    "version": 3
   },
   "file_extension": ".py",
   "mimetype": "text/x-python",
   "name": "python",
   "nbconvert_exporter": "python",
   "pygments_lexer": "ipython3",
   "version": "3.10.4"
  }
 },
 "nbformat": 4,
 "nbformat_minor": 2
}
